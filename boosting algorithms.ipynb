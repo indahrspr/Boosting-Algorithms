{
 "cells": [
  {
   "cell_type": "markdown",
   "metadata": {},
   "source": [
    "# **Boosting Algorithms**"
   ]
  },
  {
   "cell_type": "markdown",
   "metadata": {},
   "source": [
    "## **Data Preprocessing**"
   ]
  },
  {
   "cell_type": "code",
   "execution_count": 1077,
   "metadata": {},
   "outputs": [],
   "source": [
    "# Import libraries\n",
    "import numpy as np # linear algebra\n",
    "import pandas as pd # data processing, CSV file I/O (e.g. pd.read_csv)\n",
    "import matplotlib.pyplot as plt # for data visualization\n",
    "import seaborn as sns # for statistical data visualization\n",
    "%matplotlib inline"
   ]
  },
  {
   "cell_type": "markdown",
   "metadata": {},
   "source": [
    "## **Meteorology Dataset**"
   ]
  },
  {
   "cell_type": "code",
   "execution_count": 1078,
   "metadata": {},
   "outputs": [],
   "source": [
    "df = pd.read_csv(\"meteo.csv\")"
   ]
  },
  {
   "cell_type": "code",
   "execution_count": 1079,
   "metadata": {},
   "outputs": [
    {
     "data": {
      "text/html": [
       "<div>\n",
       "<style scoped>\n",
       "    .dataframe tbody tr th:only-of-type {\n",
       "        vertical-align: middle;\n",
       "    }\n",
       "\n",
       "    .dataframe tbody tr th {\n",
       "        vertical-align: top;\n",
       "    }\n",
       "\n",
       "    .dataframe thead th {\n",
       "        text-align: right;\n",
       "    }\n",
       "</style>\n",
       "<table border=\"1\" class=\"dataframe\">\n",
       "  <thead>\n",
       "    <tr style=\"text-align: right;\">\n",
       "      <th></th>\n",
       "      <th>date</th>\n",
       "      <th>hour</th>\n",
       "      <th>dew_point</th>\n",
       "      <th>wind_direction</th>\n",
       "      <th>wind_speed</th>\n",
       "      <th>pressure</th>\n",
       "      <th>temperature</th>\n",
       "      <th>relative_humidity</th>\n",
       "      <th>precipitation</th>\n",
       "    </tr>\n",
       "  </thead>\n",
       "  <tbody>\n",
       "    <tr>\n",
       "      <th>0</th>\n",
       "      <td>1/1/2015</td>\n",
       "      <td>0</td>\n",
       "      <td>22.7</td>\n",
       "      <td>260.0</td>\n",
       "      <td>4.0</td>\n",
       "      <td>1011.2</td>\n",
       "      <td>25.6</td>\n",
       "      <td>83.9</td>\n",
       "      <td>NaN</td>\n",
       "    </tr>\n",
       "    <tr>\n",
       "      <th>1</th>\n",
       "      <td>1/1/2015</td>\n",
       "      <td>1</td>\n",
       "      <td>22.6</td>\n",
       "      <td>270.0</td>\n",
       "      <td>4.0</td>\n",
       "      <td>1010.6</td>\n",
       "      <td>25.4</td>\n",
       "      <td>84.6</td>\n",
       "      <td>NaN</td>\n",
       "    </tr>\n",
       "    <tr>\n",
       "      <th>2</th>\n",
       "      <td>1/1/2015</td>\n",
       "      <td>2</td>\n",
       "      <td>22.8</td>\n",
       "      <td>270.0</td>\n",
       "      <td>4.0</td>\n",
       "      <td>1010.5</td>\n",
       "      <td>25.0</td>\n",
       "      <td>87.5</td>\n",
       "      <td>NaN</td>\n",
       "    </tr>\n",
       "    <tr>\n",
       "      <th>3</th>\n",
       "      <td>1/1/2015</td>\n",
       "      <td>3</td>\n",
       "      <td>22.8</td>\n",
       "      <td>270.0</td>\n",
       "      <td>4.0</td>\n",
       "      <td>1010.4</td>\n",
       "      <td>24.8</td>\n",
       "      <td>88.9</td>\n",
       "      <td>NaN</td>\n",
       "    </tr>\n",
       "    <tr>\n",
       "      <th>4</th>\n",
       "      <td>1/1/2015</td>\n",
       "      <td>4</td>\n",
       "      <td>22.9</td>\n",
       "      <td>260.0</td>\n",
       "      <td>4.0</td>\n",
       "      <td>1010.3</td>\n",
       "      <td>24.6</td>\n",
       "      <td>90.4</td>\n",
       "      <td>NaN</td>\n",
       "    </tr>\n",
       "  </tbody>\n",
       "</table>\n",
       "</div>"
      ],
      "text/plain": [
       "       date  hour  dew_point  wind_direction  wind_speed  pressure  \\\n",
       "0  1/1/2015     0       22.7           260.0         4.0    1011.2   \n",
       "1  1/1/2015     1       22.6           270.0         4.0    1010.6   \n",
       "2  1/1/2015     2       22.8           270.0         4.0    1010.5   \n",
       "3  1/1/2015     3       22.8           270.0         4.0    1010.4   \n",
       "4  1/1/2015     4       22.9           260.0         4.0    1010.3   \n",
       "\n",
       "   temperature  relative_humidity  precipitation  \n",
       "0         25.6               83.9            NaN  \n",
       "1         25.4               84.6            NaN  \n",
       "2         25.0               87.5            NaN  \n",
       "3         24.8               88.9            NaN  \n",
       "4         24.6               90.4            NaN  "
      ]
     },
     "execution_count": 1079,
     "metadata": {},
     "output_type": "execute_result"
    }
   ],
   "source": [
    "df.head()"
   ]
  },
  {
   "cell_type": "code",
   "execution_count": 1080,
   "metadata": {},
   "outputs": [
    {
     "name": "stdout",
     "output_type": "stream",
     "text": [
      "<class 'pandas.core.frame.DataFrame'>\n",
      "RangeIndex: 65804 entries, 0 to 65803\n",
      "Data columns (total 9 columns):\n",
      "date                 65804 non-null object\n",
      "hour                 65804 non-null int64\n",
      "dew_point            65723 non-null float64\n",
      "wind_direction       65778 non-null float64\n",
      "wind_speed           65716 non-null float64\n",
      "pressure             65787 non-null float64\n",
      "temperature          65763 non-null float64\n",
      "relative_humidity    65723 non-null float64\n",
      "precipitation        3353 non-null float64\n",
      "dtypes: float64(7), int64(1), object(1)\n",
      "memory usage: 4.5+ MB\n"
     ]
    }
   ],
   "source": [
    "df.info()"
   ]
  },
  {
   "cell_type": "code",
   "execution_count": 1081,
   "metadata": {},
   "outputs": [],
   "source": [
    "df['hour'] = df['hour'].astype('str')"
   ]
  },
  {
   "cell_type": "code",
   "execution_count": 1082,
   "metadata": {},
   "outputs": [],
   "source": [
    "h=df[\"hour\"].str.zfill(2)\n",
    "df[\"date\"]  = df['date'] + \" \" + h + \":00:00\""
   ]
  },
  {
   "cell_type": "code",
   "execution_count": 1083,
   "metadata": {},
   "outputs": [],
   "source": [
    "df[\"date\"] = pd.to_datetime(df['date'])"
   ]
  },
  {
   "cell_type": "code",
   "execution_count": 1084,
   "metadata": {},
   "outputs": [
    {
     "data": {
      "text/html": [
       "<div>\n",
       "<style scoped>\n",
       "    .dataframe tbody tr th:only-of-type {\n",
       "        vertical-align: middle;\n",
       "    }\n",
       "\n",
       "    .dataframe tbody tr th {\n",
       "        vertical-align: top;\n",
       "    }\n",
       "\n",
       "    .dataframe thead th {\n",
       "        text-align: right;\n",
       "    }\n",
       "</style>\n",
       "<table border=\"1\" class=\"dataframe\">\n",
       "  <thead>\n",
       "    <tr style=\"text-align: right;\">\n",
       "      <th></th>\n",
       "      <th>date</th>\n",
       "      <th>hour</th>\n",
       "      <th>dew_point</th>\n",
       "      <th>wind_direction</th>\n",
       "      <th>wind_speed</th>\n",
       "      <th>pressure</th>\n",
       "      <th>temperature</th>\n",
       "      <th>relative_humidity</th>\n",
       "      <th>precipitation</th>\n",
       "    </tr>\n",
       "  </thead>\n",
       "  <tbody>\n",
       "    <tr>\n",
       "      <th>0</th>\n",
       "      <td>2015-01-01 00:00:00</td>\n",
       "      <td>0</td>\n",
       "      <td>22.7</td>\n",
       "      <td>260.0</td>\n",
       "      <td>4.0</td>\n",
       "      <td>1011.2</td>\n",
       "      <td>25.6</td>\n",
       "      <td>83.9</td>\n",
       "      <td>NaN</td>\n",
       "    </tr>\n",
       "    <tr>\n",
       "      <th>1</th>\n",
       "      <td>2015-01-01 01:00:00</td>\n",
       "      <td>1</td>\n",
       "      <td>22.6</td>\n",
       "      <td>270.0</td>\n",
       "      <td>4.0</td>\n",
       "      <td>1010.6</td>\n",
       "      <td>25.4</td>\n",
       "      <td>84.6</td>\n",
       "      <td>NaN</td>\n",
       "    </tr>\n",
       "    <tr>\n",
       "      <th>2</th>\n",
       "      <td>2015-01-01 02:00:00</td>\n",
       "      <td>2</td>\n",
       "      <td>22.8</td>\n",
       "      <td>270.0</td>\n",
       "      <td>4.0</td>\n",
       "      <td>1010.5</td>\n",
       "      <td>25.0</td>\n",
       "      <td>87.5</td>\n",
       "      <td>NaN</td>\n",
       "    </tr>\n",
       "    <tr>\n",
       "      <th>3</th>\n",
       "      <td>2015-01-01 03:00:00</td>\n",
       "      <td>3</td>\n",
       "      <td>22.8</td>\n",
       "      <td>270.0</td>\n",
       "      <td>4.0</td>\n",
       "      <td>1010.4</td>\n",
       "      <td>24.8</td>\n",
       "      <td>88.9</td>\n",
       "      <td>NaN</td>\n",
       "    </tr>\n",
       "    <tr>\n",
       "      <th>4</th>\n",
       "      <td>2015-01-01 04:00:00</td>\n",
       "      <td>4</td>\n",
       "      <td>22.9</td>\n",
       "      <td>260.0</td>\n",
       "      <td>4.0</td>\n",
       "      <td>1010.3</td>\n",
       "      <td>24.6</td>\n",
       "      <td>90.4</td>\n",
       "      <td>NaN</td>\n",
       "    </tr>\n",
       "  </tbody>\n",
       "</table>\n",
       "</div>"
      ],
      "text/plain": [
       "                 date hour  dew_point  wind_direction  wind_speed  pressure  \\\n",
       "0 2015-01-01 00:00:00    0       22.7           260.0         4.0    1011.2   \n",
       "1 2015-01-01 01:00:00    1       22.6           270.0         4.0    1010.6   \n",
       "2 2015-01-01 02:00:00    2       22.8           270.0         4.0    1010.5   \n",
       "3 2015-01-01 03:00:00    3       22.8           270.0         4.0    1010.4   \n",
       "4 2015-01-01 04:00:00    4       22.9           260.0         4.0    1010.3   \n",
       "\n",
       "   temperature  relative_humidity  precipitation  \n",
       "0         25.6               83.9            NaN  \n",
       "1         25.4               84.6            NaN  \n",
       "2         25.0               87.5            NaN  \n",
       "3         24.8               88.9            NaN  \n",
       "4         24.6               90.4            NaN  "
      ]
     },
     "execution_count": 1084,
     "metadata": {},
     "output_type": "execute_result"
    }
   ],
   "source": [
    "df.head()"
   ]
  },
  {
   "cell_type": "code",
   "execution_count": 1085,
   "metadata": {},
   "outputs": [],
   "source": [
    "df.drop(columns=['hour'], inplace=True)"
   ]
  },
  {
   "cell_type": "markdown",
   "metadata": {},
   "source": [
    "### **Converting from hour to daily**"
   ]
  },
  {
   "cell_type": "code",
   "execution_count": 1086,
   "metadata": {},
   "outputs": [],
   "source": [
    "df1 = pd.DataFrame(columns = ['date', 'dew_point', 'wind_speed', 'pressure',\n",
    "'temperature','relative_humidity','precipitation'], data = df)"
   ]
  },
  {
   "cell_type": "code",
   "execution_count": 1087,
   "metadata": {},
   "outputs": [
    {
     "data": {
      "text/html": [
       "<div>\n",
       "<style scoped>\n",
       "    .dataframe tbody tr th:only-of-type {\n",
       "        vertical-align: middle;\n",
       "    }\n",
       "\n",
       "    .dataframe tbody tr th {\n",
       "        vertical-align: top;\n",
       "    }\n",
       "\n",
       "    .dataframe thead th {\n",
       "        text-align: right;\n",
       "    }\n",
       "</style>\n",
       "<table border=\"1\" class=\"dataframe\">\n",
       "  <thead>\n",
       "    <tr style=\"text-align: right;\">\n",
       "      <th></th>\n",
       "      <th>date</th>\n",
       "      <th>wind_direction</th>\n",
       "    </tr>\n",
       "  </thead>\n",
       "  <tbody>\n",
       "    <tr>\n",
       "      <th>0</th>\n",
       "      <td>2015-01-01 00:00:00</td>\n",
       "      <td>260.0</td>\n",
       "    </tr>\n",
       "    <tr>\n",
       "      <th>1</th>\n",
       "      <td>2015-01-01 01:00:00</td>\n",
       "      <td>270.0</td>\n",
       "    </tr>\n",
       "    <tr>\n",
       "      <th>2</th>\n",
       "      <td>2015-01-01 02:00:00</td>\n",
       "      <td>270.0</td>\n",
       "    </tr>\n",
       "    <tr>\n",
       "      <th>3</th>\n",
       "      <td>2015-01-01 03:00:00</td>\n",
       "      <td>270.0</td>\n",
       "    </tr>\n",
       "    <tr>\n",
       "      <th>4</th>\n",
       "      <td>2015-01-01 04:00:00</td>\n",
       "      <td>260.0</td>\n",
       "    </tr>\n",
       "  </tbody>\n",
       "</table>\n",
       "</div>"
      ],
      "text/plain": [
       "                 date  wind_direction\n",
       "0 2015-01-01 00:00:00           260.0\n",
       "1 2015-01-01 01:00:00           270.0\n",
       "2 2015-01-01 02:00:00           270.0\n",
       "3 2015-01-01 03:00:00           270.0\n",
       "4 2015-01-01 04:00:00           260.0"
      ]
     },
     "execution_count": 1087,
     "metadata": {},
     "output_type": "execute_result"
    }
   ],
   "source": [
    "df2 = pd.DataFrame(columns = ['date', 'wind_direction'], data = df)\n",
    "df2.head()"
   ]
  },
  {
   "cell_type": "code",
   "execution_count": 1088,
   "metadata": {},
   "outputs": [],
   "source": [
    "mt1 = df1.resample('D', on='date').mean()"
   ]
  },
  {
   "cell_type": "code",
   "execution_count": 1089,
   "metadata": {},
   "outputs": [],
   "source": [
    "mt1['precipitation'] = mt1['precipitation'].replace(np.nan, 0)"
   ]
  },
  {
   "cell_type": "code",
   "execution_count": 1090,
   "metadata": {},
   "outputs": [
    {
     "name": "stdout",
     "output_type": "stream",
     "text": [
      "<class 'pandas.core.frame.DataFrame'>\n",
      "DatetimeIndex: 2745 entries, 2015-01-01 to 2022-07-07\n",
      "Freq: D\n",
      "Data columns (total 6 columns):\n",
      "dew_point            2745 non-null float64\n",
      "wind_speed           2745 non-null float64\n",
      "pressure             2745 non-null float64\n",
      "temperature          2745 non-null float64\n",
      "relative_humidity    2745 non-null float64\n",
      "precipitation        2745 non-null float64\n",
      "dtypes: float64(6)\n",
      "memory usage: 150.1 KB\n"
     ]
    }
   ],
   "source": [
    "mt1.info()"
   ]
  },
  {
   "cell_type": "code",
   "execution_count": 1091,
   "metadata": {},
   "outputs": [],
   "source": [
    "import scipy.stats\n",
    "\n",
    "def mode(xs):\n",
    "    return scipy.stats.mode(xs)[0][0]"
   ]
  },
  {
   "cell_type": "code",
   "execution_count": 1092,
   "metadata": {},
   "outputs": [
    {
     "name": "stderr",
     "output_type": "stream",
     "text": [
      "The input array could not be properly checked for nan values. nan values will be ignored.\n"
     ]
    }
   ],
   "source": [
    "mt2 = df2.resample('D', on='date').apply(mode)"
   ]
  },
  {
   "cell_type": "code",
   "execution_count": 1093,
   "metadata": {},
   "outputs": [
    {
     "data": {
      "text/html": [
       "<div>\n",
       "<style scoped>\n",
       "    .dataframe tbody tr th:only-of-type {\n",
       "        vertical-align: middle;\n",
       "    }\n",
       "\n",
       "    .dataframe tbody tr th {\n",
       "        vertical-align: top;\n",
       "    }\n",
       "\n",
       "    .dataframe thead th {\n",
       "        text-align: right;\n",
       "    }\n",
       "</style>\n",
       "<table border=\"1\" class=\"dataframe\">\n",
       "  <thead>\n",
       "    <tr style=\"text-align: right;\">\n",
       "      <th></th>\n",
       "      <th>dew_point</th>\n",
       "      <th>wind_speed</th>\n",
       "      <th>pressure</th>\n",
       "      <th>temperature</th>\n",
       "      <th>relative_humidity</th>\n",
       "      <th>precipitation</th>\n",
       "    </tr>\n",
       "    <tr>\n",
       "      <th>date</th>\n",
       "      <th></th>\n",
       "      <th></th>\n",
       "      <th></th>\n",
       "      <th></th>\n",
       "      <th></th>\n",
       "      <th></th>\n",
       "    </tr>\n",
       "  </thead>\n",
       "  <tbody>\n",
       "    <tr>\n",
       "      <th>2015-01-01</th>\n",
       "      <td>23.270833</td>\n",
       "      <td>3.416667</td>\n",
       "      <td>1010.283333</td>\n",
       "      <td>26.179167</td>\n",
       "      <td>84.245833</td>\n",
       "      <td>12.966667</td>\n",
       "    </tr>\n",
       "    <tr>\n",
       "      <th>2015-01-02</th>\n",
       "      <td>23.391667</td>\n",
       "      <td>3.708333</td>\n",
       "      <td>1010.887500</td>\n",
       "      <td>26.079167</td>\n",
       "      <td>85.604167</td>\n",
       "      <td>10.600000</td>\n",
       "    </tr>\n",
       "    <tr>\n",
       "      <th>2015-01-03</th>\n",
       "      <td>23.433333</td>\n",
       "      <td>3.416667</td>\n",
       "      <td>1010.804167</td>\n",
       "      <td>25.979167</td>\n",
       "      <td>86.312500</td>\n",
       "      <td>8.420000</td>\n",
       "    </tr>\n",
       "    <tr>\n",
       "      <th>2015-01-04</th>\n",
       "      <td>22.750000</td>\n",
       "      <td>4.250000</td>\n",
       "      <td>1009.800000</td>\n",
       "      <td>25.608333</td>\n",
       "      <td>84.591667</td>\n",
       "      <td>6.466667</td>\n",
       "    </tr>\n",
       "    <tr>\n",
       "      <th>2015-01-05</th>\n",
       "      <td>23.275000</td>\n",
       "      <td>5.500000</td>\n",
       "      <td>1009.275000</td>\n",
       "      <td>27.620833</td>\n",
       "      <td>78.104167</td>\n",
       "      <td>1.650000</td>\n",
       "    </tr>\n",
       "  </tbody>\n",
       "</table>\n",
       "</div>"
      ],
      "text/plain": [
       "            dew_point  wind_speed     pressure  temperature  \\\n",
       "date                                                          \n",
       "2015-01-01  23.270833    3.416667  1010.283333    26.179167   \n",
       "2015-01-02  23.391667    3.708333  1010.887500    26.079167   \n",
       "2015-01-03  23.433333    3.416667  1010.804167    25.979167   \n",
       "2015-01-04  22.750000    4.250000  1009.800000    25.608333   \n",
       "2015-01-05  23.275000    5.500000  1009.275000    27.620833   \n",
       "\n",
       "            relative_humidity  precipitation  \n",
       "date                                          \n",
       "2015-01-01          84.245833      12.966667  \n",
       "2015-01-02          85.604167      10.600000  \n",
       "2015-01-03          86.312500       8.420000  \n",
       "2015-01-04          84.591667       6.466667  \n",
       "2015-01-05          78.104167       1.650000  "
      ]
     },
     "execution_count": 1093,
     "metadata": {},
     "output_type": "execute_result"
    }
   ],
   "source": [
    "mt1.head()"
   ]
  },
  {
   "cell_type": "code",
   "execution_count": 1094,
   "metadata": {},
   "outputs": [
    {
     "data": {
      "text/html": [
       "<div>\n",
       "<style scoped>\n",
       "    .dataframe tbody tr th:only-of-type {\n",
       "        vertical-align: middle;\n",
       "    }\n",
       "\n",
       "    .dataframe tbody tr th {\n",
       "        vertical-align: top;\n",
       "    }\n",
       "\n",
       "    .dataframe thead th {\n",
       "        text-align: right;\n",
       "    }\n",
       "</style>\n",
       "<table border=\"1\" class=\"dataframe\">\n",
       "  <thead>\n",
       "    <tr style=\"text-align: right;\">\n",
       "      <th></th>\n",
       "      <th>date</th>\n",
       "      <th>wind_direction</th>\n",
       "    </tr>\n",
       "    <tr>\n",
       "      <th>date</th>\n",
       "      <th></th>\n",
       "      <th></th>\n",
       "    </tr>\n",
       "  </thead>\n",
       "  <tbody>\n",
       "    <tr>\n",
       "      <th>2015-01-01</th>\n",
       "      <td>2015-01-01</td>\n",
       "      <td>260.0</td>\n",
       "    </tr>\n",
       "    <tr>\n",
       "      <th>2015-01-02</th>\n",
       "      <td>2015-01-02</td>\n",
       "      <td>270.0</td>\n",
       "    </tr>\n",
       "    <tr>\n",
       "      <th>2015-01-03</th>\n",
       "      <td>2015-01-03</td>\n",
       "      <td>0.0</td>\n",
       "    </tr>\n",
       "    <tr>\n",
       "      <th>2015-01-04</th>\n",
       "      <td>2015-01-04</td>\n",
       "      <td>260.0</td>\n",
       "    </tr>\n",
       "    <tr>\n",
       "      <th>2015-01-05</th>\n",
       "      <td>2015-01-05</td>\n",
       "      <td>250.0</td>\n",
       "    </tr>\n",
       "  </tbody>\n",
       "</table>\n",
       "</div>"
      ],
      "text/plain": [
       "                 date  wind_direction\n",
       "date                                 \n",
       "2015-01-01 2015-01-01           260.0\n",
       "2015-01-02 2015-01-02           270.0\n",
       "2015-01-03 2015-01-03             0.0\n",
       "2015-01-04 2015-01-04           260.0\n",
       "2015-01-05 2015-01-05           250.0"
      ]
     },
     "execution_count": 1094,
     "metadata": {},
     "output_type": "execute_result"
    }
   ],
   "source": [
    "mt2.head()"
   ]
  },
  {
   "cell_type": "code",
   "execution_count": 1095,
   "metadata": {},
   "outputs": [],
   "source": [
    "mt2.drop(columns=['date'], inplace=True)"
   ]
  },
  {
   "cell_type": "code",
   "execution_count": 1096,
   "metadata": {},
   "outputs": [],
   "source": [
    "mt_baru = pd.merge(mt1, mt2, on='date', how='outer')"
   ]
  },
  {
   "cell_type": "code",
   "execution_count": 1097,
   "metadata": {},
   "outputs": [
    {
     "data": {
      "text/html": [
       "<div>\n",
       "<style scoped>\n",
       "    .dataframe tbody tr th:only-of-type {\n",
       "        vertical-align: middle;\n",
       "    }\n",
       "\n",
       "    .dataframe tbody tr th {\n",
       "        vertical-align: top;\n",
       "    }\n",
       "\n",
       "    .dataframe thead th {\n",
       "        text-align: right;\n",
       "    }\n",
       "</style>\n",
       "<table border=\"1\" class=\"dataframe\">\n",
       "  <thead>\n",
       "    <tr style=\"text-align: right;\">\n",
       "      <th></th>\n",
       "      <th>dew_point</th>\n",
       "      <th>wind_speed</th>\n",
       "      <th>pressure</th>\n",
       "      <th>temperature</th>\n",
       "      <th>relative_humidity</th>\n",
       "      <th>precipitation</th>\n",
       "      <th>wind_direction</th>\n",
       "    </tr>\n",
       "    <tr>\n",
       "      <th>date</th>\n",
       "      <th></th>\n",
       "      <th></th>\n",
       "      <th></th>\n",
       "      <th></th>\n",
       "      <th></th>\n",
       "      <th></th>\n",
       "      <th></th>\n",
       "    </tr>\n",
       "  </thead>\n",
       "  <tbody>\n",
       "    <tr>\n",
       "      <th>2015-01-01</th>\n",
       "      <td>23.270833</td>\n",
       "      <td>3.416667</td>\n",
       "      <td>1010.283333</td>\n",
       "      <td>26.179167</td>\n",
       "      <td>84.245833</td>\n",
       "      <td>12.966667</td>\n",
       "      <td>260.0</td>\n",
       "    </tr>\n",
       "    <tr>\n",
       "      <th>2015-01-02</th>\n",
       "      <td>23.391667</td>\n",
       "      <td>3.708333</td>\n",
       "      <td>1010.887500</td>\n",
       "      <td>26.079167</td>\n",
       "      <td>85.604167</td>\n",
       "      <td>10.600000</td>\n",
       "      <td>270.0</td>\n",
       "    </tr>\n",
       "    <tr>\n",
       "      <th>2015-01-03</th>\n",
       "      <td>23.433333</td>\n",
       "      <td>3.416667</td>\n",
       "      <td>1010.804167</td>\n",
       "      <td>25.979167</td>\n",
       "      <td>86.312500</td>\n",
       "      <td>8.420000</td>\n",
       "      <td>0.0</td>\n",
       "    </tr>\n",
       "    <tr>\n",
       "      <th>2015-01-04</th>\n",
       "      <td>22.750000</td>\n",
       "      <td>4.250000</td>\n",
       "      <td>1009.800000</td>\n",
       "      <td>25.608333</td>\n",
       "      <td>84.591667</td>\n",
       "      <td>6.466667</td>\n",
       "      <td>260.0</td>\n",
       "    </tr>\n",
       "    <tr>\n",
       "      <th>2015-01-05</th>\n",
       "      <td>23.275000</td>\n",
       "      <td>5.500000</td>\n",
       "      <td>1009.275000</td>\n",
       "      <td>27.620833</td>\n",
       "      <td>78.104167</td>\n",
       "      <td>1.650000</td>\n",
       "      <td>250.0</td>\n",
       "    </tr>\n",
       "  </tbody>\n",
       "</table>\n",
       "</div>"
      ],
      "text/plain": [
       "            dew_point  wind_speed     pressure  temperature  \\\n",
       "date                                                          \n",
       "2015-01-01  23.270833    3.416667  1010.283333    26.179167   \n",
       "2015-01-02  23.391667    3.708333  1010.887500    26.079167   \n",
       "2015-01-03  23.433333    3.416667  1010.804167    25.979167   \n",
       "2015-01-04  22.750000    4.250000  1009.800000    25.608333   \n",
       "2015-01-05  23.275000    5.500000  1009.275000    27.620833   \n",
       "\n",
       "            relative_humidity  precipitation  wind_direction  \n",
       "date                                                          \n",
       "2015-01-01          84.245833      12.966667           260.0  \n",
       "2015-01-02          85.604167      10.600000           270.0  \n",
       "2015-01-03          86.312500       8.420000             0.0  \n",
       "2015-01-04          84.591667       6.466667           260.0  \n",
       "2015-01-05          78.104167       1.650000           250.0  "
      ]
     },
     "execution_count": 1097,
     "metadata": {},
     "output_type": "execute_result"
    }
   ],
   "source": [
    "mt_baru.head()"
   ]
  },
  {
   "cell_type": "code",
   "execution_count": 1098,
   "metadata": {},
   "outputs": [
    {
     "name": "stdout",
     "output_type": "stream",
     "text": [
      "<class 'pandas.core.frame.DataFrame'>\n",
      "DatetimeIndex: 2745 entries, 2015-01-01 to 2022-07-07\n",
      "Data columns (total 7 columns):\n",
      "dew_point            2745 non-null float64\n",
      "wind_speed           2745 non-null float64\n",
      "pressure             2745 non-null float64\n",
      "temperature          2745 non-null float64\n",
      "relative_humidity    2745 non-null float64\n",
      "precipitation        2745 non-null float64\n",
      "wind_direction       2745 non-null float64\n",
      "dtypes: float64(7)\n",
      "memory usage: 171.6 KB\n"
     ]
    }
   ],
   "source": [
    "mt_baru.info()"
   ]
  },
  {
   "cell_type": "markdown",
   "metadata": {},
   "source": [
    "### **Labeling the category level of wind direction**"
   ]
  },
  {
   "cell_type": "code",
   "execution_count": 1099,
   "metadata": {},
   "outputs": [],
   "source": [
    "def wd_level(row):\n",
    "    if row == 0:\n",
    "        result = 'utara'\n",
    "    elif 0 < row < 90:\n",
    "        result = 'timur laut'\n",
    "    elif row == 90:\n",
    "        result = 'timur'\n",
    "    elif 90 < row < 180:\n",
    "        result = 'tenggara'\n",
    "    elif row == 180:\n",
    "        result = 'selatan'\n",
    "    elif 180 < row < 270:\n",
    "        result = 'barat daya'\n",
    "    elif row == 270:\n",
    "        result = 'barat'\n",
    "    elif 270 < row < 360:\n",
    "        result = 'barat laut'\n",
    "    elif row == 360:\n",
    "        result = 'utara'\n",
    "    else:\n",
    "        result = 'unknown'\n",
    "    return result"
   ]
  },
  {
   "cell_type": "code",
   "execution_count": 1100,
   "metadata": {},
   "outputs": [],
   "source": [
    "mt_baru['wind_direction'] = mt_baru['wind_direction'].apply(wd_level)"
   ]
  },
  {
   "cell_type": "code",
   "execution_count": 1101,
   "metadata": {},
   "outputs": [
    {
     "data": {
      "text/html": [
       "<div>\n",
       "<style scoped>\n",
       "    .dataframe tbody tr th:only-of-type {\n",
       "        vertical-align: middle;\n",
       "    }\n",
       "\n",
       "    .dataframe tbody tr th {\n",
       "        vertical-align: top;\n",
       "    }\n",
       "\n",
       "    .dataframe thead th {\n",
       "        text-align: right;\n",
       "    }\n",
       "</style>\n",
       "<table border=\"1\" class=\"dataframe\">\n",
       "  <thead>\n",
       "    <tr style=\"text-align: right;\">\n",
       "      <th></th>\n",
       "      <th>dew_point</th>\n",
       "      <th>wind_speed</th>\n",
       "      <th>pressure</th>\n",
       "      <th>temperature</th>\n",
       "      <th>relative_humidity</th>\n",
       "      <th>precipitation</th>\n",
       "      <th>wind_direction</th>\n",
       "    </tr>\n",
       "    <tr>\n",
       "      <th>date</th>\n",
       "      <th></th>\n",
       "      <th></th>\n",
       "      <th></th>\n",
       "      <th></th>\n",
       "      <th></th>\n",
       "      <th></th>\n",
       "      <th></th>\n",
       "    </tr>\n",
       "  </thead>\n",
       "  <tbody>\n",
       "    <tr>\n",
       "      <th>2015-01-01</th>\n",
       "      <td>23.270833</td>\n",
       "      <td>3.416667</td>\n",
       "      <td>1010.283333</td>\n",
       "      <td>26.179167</td>\n",
       "      <td>84.245833</td>\n",
       "      <td>12.966667</td>\n",
       "      <td>barat daya</td>\n",
       "    </tr>\n",
       "    <tr>\n",
       "      <th>2015-01-02</th>\n",
       "      <td>23.391667</td>\n",
       "      <td>3.708333</td>\n",
       "      <td>1010.887500</td>\n",
       "      <td>26.079167</td>\n",
       "      <td>85.604167</td>\n",
       "      <td>10.600000</td>\n",
       "      <td>barat</td>\n",
       "    </tr>\n",
       "    <tr>\n",
       "      <th>2015-01-03</th>\n",
       "      <td>23.433333</td>\n",
       "      <td>3.416667</td>\n",
       "      <td>1010.804167</td>\n",
       "      <td>25.979167</td>\n",
       "      <td>86.312500</td>\n",
       "      <td>8.420000</td>\n",
       "      <td>utara</td>\n",
       "    </tr>\n",
       "    <tr>\n",
       "      <th>2015-01-04</th>\n",
       "      <td>22.750000</td>\n",
       "      <td>4.250000</td>\n",
       "      <td>1009.800000</td>\n",
       "      <td>25.608333</td>\n",
       "      <td>84.591667</td>\n",
       "      <td>6.466667</td>\n",
       "      <td>barat daya</td>\n",
       "    </tr>\n",
       "    <tr>\n",
       "      <th>2015-01-05</th>\n",
       "      <td>23.275000</td>\n",
       "      <td>5.500000</td>\n",
       "      <td>1009.275000</td>\n",
       "      <td>27.620833</td>\n",
       "      <td>78.104167</td>\n",
       "      <td>1.650000</td>\n",
       "      <td>barat daya</td>\n",
       "    </tr>\n",
       "  </tbody>\n",
       "</table>\n",
       "</div>"
      ],
      "text/plain": [
       "            dew_point  wind_speed     pressure  temperature  \\\n",
       "date                                                          \n",
       "2015-01-01  23.270833    3.416667  1010.283333    26.179167   \n",
       "2015-01-02  23.391667    3.708333  1010.887500    26.079167   \n",
       "2015-01-03  23.433333    3.416667  1010.804167    25.979167   \n",
       "2015-01-04  22.750000    4.250000  1009.800000    25.608333   \n",
       "2015-01-05  23.275000    5.500000  1009.275000    27.620833   \n",
       "\n",
       "            relative_humidity  precipitation wind_direction  \n",
       "date                                                         \n",
       "2015-01-01          84.245833      12.966667     barat daya  \n",
       "2015-01-02          85.604167      10.600000          barat  \n",
       "2015-01-03          86.312500       8.420000          utara  \n",
       "2015-01-04          84.591667       6.466667     barat daya  \n",
       "2015-01-05          78.104167       1.650000     barat daya  "
      ]
     },
     "execution_count": 1101,
     "metadata": {},
     "output_type": "execute_result"
    }
   ],
   "source": [
    "mt_baru.head()"
   ]
  },
  {
   "cell_type": "code",
   "execution_count": 1102,
   "metadata": {},
   "outputs": [],
   "source": [
    "mt_baru.to_csv('mt_xgb.csv', index= True)"
   ]
  },
  {
   "cell_type": "markdown",
   "metadata": {},
   "source": [
    "## **PM2.5 Dataset**"
   ]
  },
  {
   "cell_type": "code",
   "execution_count": 1103,
   "metadata": {},
   "outputs": [],
   "source": [
    "# data pm25\n",
    "data_pm = pd.read_csv(\"pm25_clean.csv\")"
   ]
  },
  {
   "cell_type": "code",
   "execution_count": 1104,
   "metadata": {},
   "outputs": [
    {
     "name": "stdout",
     "output_type": "stream",
     "text": [
      "<class 'pandas.core.frame.DataFrame'>\n",
      "RangeIndex: 2739 entries, 0 to 2738\n",
      "Data columns (total 2 columns):\n",
      "date     2739 non-null object\n",
      "pm2.5    2358 non-null float64\n",
      "dtypes: float64(1), object(1)\n",
      "memory usage: 42.9+ KB\n"
     ]
    }
   ],
   "source": [
    "data_pm.info()"
   ]
  },
  {
   "cell_type": "code",
   "execution_count": 1105,
   "metadata": {},
   "outputs": [],
   "source": [
    "data_pm.dropna(axis=0, how='any', thresh=None, subset=None, inplace=True)"
   ]
  },
  {
   "cell_type": "markdown",
   "metadata": {},
   "source": [
    "### **Labeling the category level of PM2.5**"
   ]
  },
  {
   "cell_type": "code",
   "execution_count": 1106,
   "metadata": {},
   "outputs": [],
   "source": [
    "def pm_level(row):\n",
    "    if row > 40.5:\n",
    "        result = 'tidak sehat'\n",
    "    elif row > 28.25:\n",
    "        result = 'sedang'\n",
    "    else:\n",
    "        result = 'baik'\n",
    "    return result"
   ]
  },
  {
   "cell_type": "code",
   "execution_count": 1107,
   "metadata": {},
   "outputs": [],
   "source": [
    "data_pm['pm2.5'] = data_pm['pm2.5'].apply(pm_level)"
   ]
  },
  {
   "cell_type": "code",
   "execution_count": 1108,
   "metadata": {},
   "outputs": [
    {
     "data": {
      "text/html": [
       "<div>\n",
       "<style scoped>\n",
       "    .dataframe tbody tr th:only-of-type {\n",
       "        vertical-align: middle;\n",
       "    }\n",
       "\n",
       "    .dataframe tbody tr th {\n",
       "        vertical-align: top;\n",
       "    }\n",
       "\n",
       "    .dataframe thead th {\n",
       "        text-align: right;\n",
       "    }\n",
       "</style>\n",
       "<table border=\"1\" class=\"dataframe\">\n",
       "  <thead>\n",
       "    <tr style=\"text-align: right;\">\n",
       "      <th></th>\n",
       "      <th>date</th>\n",
       "      <th>pm2.5</th>\n",
       "    </tr>\n",
       "  </thead>\n",
       "  <tbody>\n",
       "    <tr>\n",
       "      <th>354</th>\n",
       "      <td>2015-12-21</td>\n",
       "      <td>baik</td>\n",
       "    </tr>\n",
       "    <tr>\n",
       "      <th>355</th>\n",
       "      <td>2015-12-22</td>\n",
       "      <td>baik</td>\n",
       "    </tr>\n",
       "    <tr>\n",
       "      <th>356</th>\n",
       "      <td>2015-12-23</td>\n",
       "      <td>baik</td>\n",
       "    </tr>\n",
       "    <tr>\n",
       "      <th>357</th>\n",
       "      <td>2015-12-24</td>\n",
       "      <td>baik</td>\n",
       "    </tr>\n",
       "    <tr>\n",
       "      <th>358</th>\n",
       "      <td>2015-12-25</td>\n",
       "      <td>baik</td>\n",
       "    </tr>\n",
       "  </tbody>\n",
       "</table>\n",
       "</div>"
      ],
      "text/plain": [
       "           date pm2.5\n",
       "354  2015-12-21  baik\n",
       "355  2015-12-22  baik\n",
       "356  2015-12-23  baik\n",
       "357  2015-12-24  baik\n",
       "358  2015-12-25  baik"
      ]
     },
     "execution_count": 1108,
     "metadata": {},
     "output_type": "execute_result"
    }
   ],
   "source": [
    "data_pm.head()"
   ]
  },
  {
   "cell_type": "code",
   "execution_count": 1109,
   "metadata": {},
   "outputs": [
    {
     "name": "stdout",
     "output_type": "stream",
     "text": [
      "<class 'pandas.core.frame.DataFrame'>\n",
      "Int64Index: 2358 entries, 354 to 2738\n",
      "Data columns (total 2 columns):\n",
      "date     2358 non-null object\n",
      "pm2.5    2358 non-null object\n",
      "dtypes: object(2)\n",
      "memory usage: 55.3+ KB\n"
     ]
    }
   ],
   "source": [
    "data_pm.info()"
   ]
  },
  {
   "cell_type": "code",
   "execution_count": 1110,
   "metadata": {},
   "outputs": [],
   "source": [
    "data_pm.to_csv('pm_xgb.csv', index= False)"
   ]
  },
  {
   "cell_type": "markdown",
   "metadata": {},
   "source": [
    "## **Merging Data**"
   ]
  },
  {
   "cell_type": "code",
   "execution_count": 1111,
   "metadata": {},
   "outputs": [],
   "source": [
    "# data fix banget\n",
    "\n",
    "pm = pd.read_csv(\"pm_xgb.csv\")\n",
    "mt = pd.read_csv(\"mt_xgb.csv\")"
   ]
  },
  {
   "cell_type": "code",
   "execution_count": 1112,
   "metadata": {},
   "outputs": [],
   "source": [
    "data_fix = pd.merge(mt, pm, on='date', how='left')"
   ]
  },
  {
   "cell_type": "code",
   "execution_count": 1113,
   "metadata": {},
   "outputs": [
    {
     "data": {
      "text/html": [
       "<div>\n",
       "<style scoped>\n",
       "    .dataframe tbody tr th:only-of-type {\n",
       "        vertical-align: middle;\n",
       "    }\n",
       "\n",
       "    .dataframe tbody tr th {\n",
       "        vertical-align: top;\n",
       "    }\n",
       "\n",
       "    .dataframe thead th {\n",
       "        text-align: right;\n",
       "    }\n",
       "</style>\n",
       "<table border=\"1\" class=\"dataframe\">\n",
       "  <thead>\n",
       "    <tr style=\"text-align: right;\">\n",
       "      <th></th>\n",
       "      <th>date</th>\n",
       "      <th>dew_point</th>\n",
       "      <th>wind_speed</th>\n",
       "      <th>pressure</th>\n",
       "      <th>temperature</th>\n",
       "      <th>relative_humidity</th>\n",
       "      <th>precipitation</th>\n",
       "      <th>wind_direction</th>\n",
       "      <th>pm2.5</th>\n",
       "    </tr>\n",
       "  </thead>\n",
       "  <tbody>\n",
       "    <tr>\n",
       "      <th>0</th>\n",
       "      <td>2015-01-01</td>\n",
       "      <td>23.270833</td>\n",
       "      <td>3.416667</td>\n",
       "      <td>1010.283333</td>\n",
       "      <td>26.179167</td>\n",
       "      <td>84.245833</td>\n",
       "      <td>12.966667</td>\n",
       "      <td>barat daya</td>\n",
       "      <td>NaN</td>\n",
       "    </tr>\n",
       "    <tr>\n",
       "      <th>1</th>\n",
       "      <td>2015-01-02</td>\n",
       "      <td>23.391667</td>\n",
       "      <td>3.708333</td>\n",
       "      <td>1010.887500</td>\n",
       "      <td>26.079167</td>\n",
       "      <td>85.604167</td>\n",
       "      <td>10.600000</td>\n",
       "      <td>barat</td>\n",
       "      <td>NaN</td>\n",
       "    </tr>\n",
       "    <tr>\n",
       "      <th>2</th>\n",
       "      <td>2015-01-03</td>\n",
       "      <td>23.433333</td>\n",
       "      <td>3.416667</td>\n",
       "      <td>1010.804167</td>\n",
       "      <td>25.979167</td>\n",
       "      <td>86.312500</td>\n",
       "      <td>8.420000</td>\n",
       "      <td>utara</td>\n",
       "      <td>NaN</td>\n",
       "    </tr>\n",
       "    <tr>\n",
       "      <th>3</th>\n",
       "      <td>2015-01-04</td>\n",
       "      <td>22.750000</td>\n",
       "      <td>4.250000</td>\n",
       "      <td>1009.800000</td>\n",
       "      <td>25.608333</td>\n",
       "      <td>84.591667</td>\n",
       "      <td>6.466667</td>\n",
       "      <td>barat daya</td>\n",
       "      <td>NaN</td>\n",
       "    </tr>\n",
       "    <tr>\n",
       "      <th>4</th>\n",
       "      <td>2015-01-05</td>\n",
       "      <td>23.275000</td>\n",
       "      <td>5.500000</td>\n",
       "      <td>1009.275000</td>\n",
       "      <td>27.620833</td>\n",
       "      <td>78.104167</td>\n",
       "      <td>1.650000</td>\n",
       "      <td>barat daya</td>\n",
       "      <td>NaN</td>\n",
       "    </tr>\n",
       "  </tbody>\n",
       "</table>\n",
       "</div>"
      ],
      "text/plain": [
       "         date  dew_point  wind_speed     pressure  temperature  \\\n",
       "0  2015-01-01  23.270833    3.416667  1010.283333    26.179167   \n",
       "1  2015-01-02  23.391667    3.708333  1010.887500    26.079167   \n",
       "2  2015-01-03  23.433333    3.416667  1010.804167    25.979167   \n",
       "3  2015-01-04  22.750000    4.250000  1009.800000    25.608333   \n",
       "4  2015-01-05  23.275000    5.500000  1009.275000    27.620833   \n",
       "\n",
       "   relative_humidity  precipitation wind_direction pm2.5  \n",
       "0          84.245833      12.966667     barat daya   NaN  \n",
       "1          85.604167      10.600000          barat   NaN  \n",
       "2          86.312500       8.420000          utara   NaN  \n",
       "3          84.591667       6.466667     barat daya   NaN  \n",
       "4          78.104167       1.650000     barat daya   NaN  "
      ]
     },
     "execution_count": 1113,
     "metadata": {},
     "output_type": "execute_result"
    }
   ],
   "source": [
    "data_fix.head()"
   ]
  },
  {
   "cell_type": "code",
   "execution_count": 1114,
   "metadata": {},
   "outputs": [
    {
     "name": "stdout",
     "output_type": "stream",
     "text": [
      "<class 'pandas.core.frame.DataFrame'>\n",
      "Int64Index: 2745 entries, 0 to 2744\n",
      "Data columns (total 9 columns):\n",
      "date                 2745 non-null object\n",
      "dew_point            2745 non-null float64\n",
      "wind_speed           2745 non-null float64\n",
      "pressure             2745 non-null float64\n",
      "temperature          2745 non-null float64\n",
      "relative_humidity    2745 non-null float64\n",
      "precipitation        2745 non-null float64\n",
      "wind_direction       2745 non-null object\n",
      "pm2.5                2358 non-null object\n",
      "dtypes: float64(6), object(3)\n",
      "memory usage: 214.5+ KB\n"
     ]
    }
   ],
   "source": [
    "data_fix.info()"
   ]
  },
  {
   "cell_type": "code",
   "execution_count": 1115,
   "metadata": {},
   "outputs": [],
   "source": [
    "data_fix.to_csv('data_xgb.csv', index= False)"
   ]
  },
  {
   "cell_type": "markdown",
   "metadata": {},
   "source": [
    "## **Final Dataset**"
   ]
  },
  {
   "cell_type": "code",
   "execution_count": 1116,
   "metadata": {},
   "outputs": [],
   "source": [
    "df = pd.read_csv('data_xgb.csv')"
   ]
  },
  {
   "cell_type": "code",
   "execution_count": 1117,
   "metadata": {},
   "outputs": [
    {
     "data": {
      "text/html": [
       "<div>\n",
       "<style scoped>\n",
       "    .dataframe tbody tr th:only-of-type {\n",
       "        vertical-align: middle;\n",
       "    }\n",
       "\n",
       "    .dataframe tbody tr th {\n",
       "        vertical-align: top;\n",
       "    }\n",
       "\n",
       "    .dataframe thead th {\n",
       "        text-align: right;\n",
       "    }\n",
       "</style>\n",
       "<table border=\"1\" class=\"dataframe\">\n",
       "  <thead>\n",
       "    <tr style=\"text-align: right;\">\n",
       "      <th></th>\n",
       "      <th>date</th>\n",
       "      <th>dew_point</th>\n",
       "      <th>wind_speed</th>\n",
       "      <th>pressure</th>\n",
       "      <th>temperature</th>\n",
       "      <th>relative_humidity</th>\n",
       "      <th>precipitation</th>\n",
       "      <th>wind_direction</th>\n",
       "      <th>pm2.5</th>\n",
       "    </tr>\n",
       "  </thead>\n",
       "  <tbody>\n",
       "    <tr>\n",
       "      <th>0</th>\n",
       "      <td>2015-01-01</td>\n",
       "      <td>23.270833</td>\n",
       "      <td>3.416667</td>\n",
       "      <td>1010.283333</td>\n",
       "      <td>26.179167</td>\n",
       "      <td>84.245833</td>\n",
       "      <td>12.966667</td>\n",
       "      <td>barat daya</td>\n",
       "      <td>NaN</td>\n",
       "    </tr>\n",
       "    <tr>\n",
       "      <th>1</th>\n",
       "      <td>2015-01-02</td>\n",
       "      <td>23.391667</td>\n",
       "      <td>3.708333</td>\n",
       "      <td>1010.887500</td>\n",
       "      <td>26.079167</td>\n",
       "      <td>85.604167</td>\n",
       "      <td>10.600000</td>\n",
       "      <td>barat</td>\n",
       "      <td>NaN</td>\n",
       "    </tr>\n",
       "    <tr>\n",
       "      <th>2</th>\n",
       "      <td>2015-01-03</td>\n",
       "      <td>23.433333</td>\n",
       "      <td>3.416667</td>\n",
       "      <td>1010.804167</td>\n",
       "      <td>25.979167</td>\n",
       "      <td>86.312500</td>\n",
       "      <td>8.420000</td>\n",
       "      <td>utara</td>\n",
       "      <td>NaN</td>\n",
       "    </tr>\n",
       "    <tr>\n",
       "      <th>3</th>\n",
       "      <td>2015-01-04</td>\n",
       "      <td>22.750000</td>\n",
       "      <td>4.250000</td>\n",
       "      <td>1009.800000</td>\n",
       "      <td>25.608333</td>\n",
       "      <td>84.591667</td>\n",
       "      <td>6.466667</td>\n",
       "      <td>barat daya</td>\n",
       "      <td>NaN</td>\n",
       "    </tr>\n",
       "    <tr>\n",
       "      <th>4</th>\n",
       "      <td>2015-01-05</td>\n",
       "      <td>23.275000</td>\n",
       "      <td>5.500000</td>\n",
       "      <td>1009.275000</td>\n",
       "      <td>27.620833</td>\n",
       "      <td>78.104167</td>\n",
       "      <td>1.650000</td>\n",
       "      <td>barat daya</td>\n",
       "      <td>NaN</td>\n",
       "    </tr>\n",
       "  </tbody>\n",
       "</table>\n",
       "</div>"
      ],
      "text/plain": [
       "         date  dew_point  wind_speed     pressure  temperature  \\\n",
       "0  2015-01-01  23.270833    3.416667  1010.283333    26.179167   \n",
       "1  2015-01-02  23.391667    3.708333  1010.887500    26.079167   \n",
       "2  2015-01-03  23.433333    3.416667  1010.804167    25.979167   \n",
       "3  2015-01-04  22.750000    4.250000  1009.800000    25.608333   \n",
       "4  2015-01-05  23.275000    5.500000  1009.275000    27.620833   \n",
       "\n",
       "   relative_humidity  precipitation wind_direction pm2.5  \n",
       "0          84.245833      12.966667     barat daya   NaN  \n",
       "1          85.604167      10.600000          barat   NaN  \n",
       "2          86.312500       8.420000          utara   NaN  \n",
       "3          84.591667       6.466667     barat daya   NaN  \n",
       "4          78.104167       1.650000     barat daya   NaN  "
      ]
     },
     "execution_count": 1117,
     "metadata": {},
     "output_type": "execute_result"
    }
   ],
   "source": [
    "df.head()"
   ]
  },
  {
   "cell_type": "code",
   "execution_count": 1118,
   "metadata": {},
   "outputs": [
    {
     "data": {
      "text/plain": [
       "date                   0\n",
       "dew_point              0\n",
       "wind_speed             0\n",
       "pressure               0\n",
       "temperature            0\n",
       "relative_humidity      0\n",
       "precipitation          0\n",
       "wind_direction         0\n",
       "pm2.5                387\n",
       "dtype: int64"
      ]
     },
     "execution_count": 1118,
     "metadata": {},
     "output_type": "execute_result"
    }
   ],
   "source": [
    "# missing values\n",
    "df.isnull().sum()"
   ]
  },
  {
   "cell_type": "code",
   "execution_count": 1119,
   "metadata": {},
   "outputs": [],
   "source": [
    "df.dropna(axis=0, how='any', thresh=None, subset=None, inplace=True)"
   ]
  },
  {
   "cell_type": "code",
   "execution_count": 1120,
   "metadata": {},
   "outputs": [
    {
     "data": {
      "text/plain": [
       "date                 0\n",
       "dew_point            0\n",
       "wind_speed           0\n",
       "pressure             0\n",
       "temperature          0\n",
       "relative_humidity    0\n",
       "precipitation        0\n",
       "wind_direction       0\n",
       "pm2.5                0\n",
       "dtype: int64"
      ]
     },
     "execution_count": 1120,
     "metadata": {},
     "output_type": "execute_result"
    }
   ],
   "source": [
    "# missing values\n",
    "df.isnull().sum()"
   ]
  },
  {
   "cell_type": "code",
   "execution_count": 1121,
   "metadata": {},
   "outputs": [
    {
     "name": "stdout",
     "output_type": "stream",
     "text": [
      "<class 'pandas.core.frame.DataFrame'>\n",
      "Int64Index: 2358 entries, 354 to 2738\n",
      "Data columns (total 9 columns):\n",
      "date                 2358 non-null object\n",
      "dew_point            2358 non-null float64\n",
      "wind_speed           2358 non-null float64\n",
      "pressure             2358 non-null float64\n",
      "temperature          2358 non-null float64\n",
      "relative_humidity    2358 non-null float64\n",
      "precipitation        2358 non-null float64\n",
      "wind_direction       2358 non-null object\n",
      "pm2.5                2358 non-null object\n",
      "dtypes: float64(6), object(3)\n",
      "memory usage: 184.2+ KB\n"
     ]
    }
   ],
   "source": [
    "df.info()"
   ]
  },
  {
   "cell_type": "code",
   "execution_count": 1122,
   "metadata": {},
   "outputs": [],
   "source": [
    "# delete date column\n",
    "df.drop(columns=['date'], inplace=True)"
   ]
  },
  {
   "cell_type": "markdown",
   "metadata": {},
   "source": [
    "## **Data Visualization**"
   ]
  },
  {
   "cell_type": "markdown",
   "metadata": {},
   "source": [
    "### **Frequency Distribution: Categorical Variables**"
   ]
  },
  {
   "cell_type": "code",
   "execution_count": 1123,
   "metadata": {},
   "outputs": [
    {
     "data": {
      "image/png": "[encoded data removed]",
      "text/plain": [
       "<Figure size 1080x360 with 2 Axes>"
      ]
     },
     "metadata": {
      "needs_background": "light"
     },
     "output_type": "display_data"
    }
   ],
   "source": [
    "fig, axs = plt.subplots(nrows=1, ncols=2, figsize=(15, 5))\n",
    "titles = ['wind_direction','pm2.5']\n",
    "\n",
    "ax_title_pairs = zip(axs.flat, titles)\n",
    "\n",
    "for ax, title in ax_title_pairs:\n",
    "    sns.countplot(x=title, data=df, palette='Pastel2', ax=ax)\n",
    "    ax.set_title(title)\n",
    "    ax.set_ylim(0, 900)\n",
    "\n",
    "plt.tight_layout()"
   ]
  },
  {
   "cell_type": "markdown",
   "metadata": {},
   "source": [
    "### **Frequency Distribution: Continuous Variables**"
   ]
  },
  {
   "cell_type": "code",
   "execution_count": 1124,
   "metadata": {},
   "outputs": [
    {
     "data": {
      "image/png": "[encoded data removed]",
      "text/plain": [
       "<Figure size 1080x360 with 6 Axes>"
      ]
     },
     "metadata": {
      "needs_background": "light"
     },
     "output_type": "display_data"
    }
   ],
   "source": [
    "df_grouped = df.groupby(by='pm2.5')\n",
    "fig, ax = plt.subplots(nrows=2, ncols=3, figsize=(15, 5))\n",
    "cols = ['dew_point','wind_speed','pressure','temperature','relative_humidity','precipitation']\n",
    "\n",
    "ax=ax.ravel()\n",
    "for i in range(len(cols)):\n",
    "    sns.distplot(df_grouped.get_group('baik')[cols[i]], bins=20, ax=ax[i], label='baik')\n",
    "    sns.distplot(df_grouped.get_group('sedang')[cols[i]], bins=20, ax=ax[i], label='sedang')\n",
    "    sns.distplot(df_grouped.get_group('tidak sehat')[cols[i]], bins=20, ax=ax[i], label='tidak sehat')\n",
    "    ax[i].legend(title='pm2.5')\n",
    "\n",
    "fig.tight_layout()"
   ]
  },
  {
   "cell_type": "markdown",
   "metadata": {},
   "source": [
    "### **Box Plots : Outlier Detection**"
   ]
  },
  {
   "cell_type": "code",
   "execution_count": 1125,
   "metadata": {},
   "outputs": [
    {
     "data": {
      "image/png": "[encoded data removed]",
      "text/plain": [
       "<Figure size 1080x360 with 6 Axes>"
      ]
     },
     "metadata": {
      "needs_background": "light"
     },
     "output_type": "display_data"
    }
   ],
   "source": [
    "fig, axes = plt.subplots(nrows=2, ncols=3, figsize=(15, 5))\n",
    "cols = ['dew_point','wind_speed','pressure','temperature','relative_humidity','precipitation']\n",
    "\n",
    "axes=axes.ravel()\n",
    "for i in range(len(cols)):\n",
    "    sns.boxplot(x='pm2.5', y=cols[i], data=df, ax=axes[i])\n",
    "fig.tight_layout()"
   ]
  },
  {
   "cell_type": "markdown",
   "metadata": {},
   "source": [
    "## **Spearman Correlation**"
   ]
  },
  {
   "cell_type": "code",
   "execution_count": 1126,
   "metadata": {},
   "outputs": [
    {
     "name": "stderr",
     "output_type": "stream",
     "text": [
      "The input array could not be properly checked for nan values. nan values will be ignored.\n"
     ]
    },
    {
     "data": {
      "text/html": [
       "<div>\n",
       "<style scoped>\n",
       "    .dataframe tbody tr th:only-of-type {\n",
       "        vertical-align: middle;\n",
       "    }\n",
       "\n",
       "    .dataframe tbody tr th {\n",
       "        vertical-align: top;\n",
       "    }\n",
       "\n",
       "    .dataframe thead th {\n",
       "        text-align: right;\n",
       "    }\n",
       "</style>\n",
       "<table border=\"1\" class=\"dataframe\">\n",
       "  <thead>\n",
       "    <tr style=\"text-align: right;\">\n",
       "      <th></th>\n",
       "      <th>variables</th>\n",
       "      <th>pearson (r)</th>\n",
       "      <th>p-value</th>\n",
       "    </tr>\n",
       "  </thead>\n",
       "  <tbody>\n",
       "    <tr>\n",
       "      <th>0</th>\n",
       "      <td>dew_point</td>\n",
       "      <td>-0.012391</td>\n",
       "      <td>5.475583e-01</td>\n",
       "    </tr>\n",
       "    <tr>\n",
       "      <th>1</th>\n",
       "      <td>wind_speed</td>\n",
       "      <td>-0.256680</td>\n",
       "      <td>8.623836e-37</td>\n",
       "    </tr>\n",
       "    <tr>\n",
       "      <th>2</th>\n",
       "      <td>pressure</td>\n",
       "      <td>0.131198</td>\n",
       "      <td>1.603591e-10</td>\n",
       "    </tr>\n",
       "    <tr>\n",
       "      <th>3</th>\n",
       "      <td>temperature</td>\n",
       "      <td>0.303545</td>\n",
       "      <td>1.898453e-51</td>\n",
       "    </tr>\n",
       "    <tr>\n",
       "      <th>4</th>\n",
       "      <td>relative_humidity</td>\n",
       "      <td>-0.280875</td>\n",
       "      <td>5.293664e-44</td>\n",
       "    </tr>\n",
       "    <tr>\n",
       "      <th>5</th>\n",
       "      <td>precipitation</td>\n",
       "      <td>-0.338828</td>\n",
       "      <td>1.980301e-64</td>\n",
       "    </tr>\n",
       "  </tbody>\n",
       "</table>\n",
       "</div>"
      ],
      "text/plain": [
       "           variables  pearson (r)       p-value\n",
       "0          dew_point    -0.012391  5.475583e-01\n",
       "1         wind_speed    -0.256680  8.623836e-37\n",
       "2           pressure     0.131198  1.603591e-10\n",
       "3        temperature     0.303545  1.898453e-51\n",
       "4  relative_humidity    -0.280875  5.293664e-44\n",
       "5      precipitation    -0.338828  1.980301e-64"
      ]
     },
     "execution_count": 1126,
     "metadata": {},
     "output_type": "execute_result"
    }
   ],
   "source": [
    "from scipy.stats.stats import spearmanr\n",
    "\n",
    "#calculation correlation coefficient and p-value between x and y\n",
    "dew_point_corr = spearmanr(df['dew_point'], df['pm2.5'])\n",
    "wind_speed_corr = spearmanr(df['wind_speed'], df['pm2.5'])\n",
    "pressure_corr = spearmanr(df['pressure'], df['pm2.5'])\n",
    "temperature_corr = spearmanr(df['temperature'], df['pm2.5'])\n",
    "relative_humidity_corr = spearmanr(df['relative_humidity'], df['pm2.5'])\n",
    "precipitation_corr = spearmanr(df['precipitation'], df['pm2.5'])\n",
    "\n",
    "corr_coef = pd.DataFrame({\n",
    "    'variables' : ['dew_point', 'wind_speed', 'pressure', 'temperature', 'relative_humidity', 'precipitation'],\n",
    "    'pearson (r)' : [dew_point_corr[0], wind_speed_corr[0], pressure_corr[0], temperature_corr[0], relative_humidity_corr[0], precipitation_corr[0]],\n",
    "    'p-value' : [dew_point_corr[1], wind_speed_corr[1], pressure_corr[1], temperature_corr[1], relative_humidity_corr[1], precipitation_corr[1]]\n",
    "})\n",
    "corr_coef"
   ]
  },
  {
   "cell_type": "code",
   "execution_count": 1127,
   "metadata": {},
   "outputs": [
    {
     "data": {
      "image/png": "[encoded data removed]",
      "text/plain": [
       "<Figure size 432x288 with 2 Axes>"
      ]
     },
     "metadata": {
      "needs_background": "light"
     },
     "output_type": "display_data"
    }
   ],
   "source": [
    "corr = df.corr(method = 'spearman')\n",
    "sns.heatmap(corr, annot = True, cmap='coolwarm')\n",
    "plt.show()"
   ]
  },
  {
   "cell_type": "code",
   "execution_count": 1128,
   "metadata": {},
   "outputs": [],
   "source": [
    "# delete dew point & pressure\n",
    "df.drop(columns=['dew_point', 'pressure'], inplace=True)"
   ]
  },
  {
   "cell_type": "code",
   "execution_count": 1129,
   "metadata": {},
   "outputs": [
    {
     "data": {
      "text/html": [
       "<div>\n",
       "<style scoped>\n",
       "    .dataframe tbody tr th:only-of-type {\n",
       "        vertical-align: middle;\n",
       "    }\n",
       "\n",
       "    .dataframe tbody tr th {\n",
       "        vertical-align: top;\n",
       "    }\n",
       "\n",
       "    .dataframe thead th {\n",
       "        text-align: right;\n",
       "    }\n",
       "</style>\n",
       "<table border=\"1\" class=\"dataframe\">\n",
       "  <thead>\n",
       "    <tr style=\"text-align: right;\">\n",
       "      <th></th>\n",
       "      <th>wind_speed</th>\n",
       "      <th>temperature</th>\n",
       "      <th>relative_humidity</th>\n",
       "      <th>precipitation</th>\n",
       "      <th>wind_direction</th>\n",
       "      <th>pm2.5</th>\n",
       "    </tr>\n",
       "  </thead>\n",
       "  <tbody>\n",
       "    <tr>\n",
       "      <th>354</th>\n",
       "      <td>4.541667</td>\n",
       "      <td>27.608333</td>\n",
       "      <td>75.241667</td>\n",
       "      <td>11.0</td>\n",
       "      <td>utara</td>\n",
       "      <td>baik</td>\n",
       "    </tr>\n",
       "    <tr>\n",
       "      <th>355</th>\n",
       "      <td>3.083333</td>\n",
       "      <td>29.258333</td>\n",
       "      <td>69.654167</td>\n",
       "      <td>0.0</td>\n",
       "      <td>utara</td>\n",
       "      <td>baik</td>\n",
       "    </tr>\n",
       "    <tr>\n",
       "      <th>356</th>\n",
       "      <td>4.250000</td>\n",
       "      <td>29.533333</td>\n",
       "      <td>68.500000</td>\n",
       "      <td>0.0</td>\n",
       "      <td>barat daya</td>\n",
       "      <td>baik</td>\n",
       "    </tr>\n",
       "    <tr>\n",
       "      <th>357</th>\n",
       "      <td>4.041667</td>\n",
       "      <td>29.433333</td>\n",
       "      <td>66.437500</td>\n",
       "      <td>0.0</td>\n",
       "      <td>utara</td>\n",
       "      <td>baik</td>\n",
       "    </tr>\n",
       "    <tr>\n",
       "      <th>358</th>\n",
       "      <td>2.958333</td>\n",
       "      <td>28.866667</td>\n",
       "      <td>74.758333</td>\n",
       "      <td>0.0</td>\n",
       "      <td>utara</td>\n",
       "      <td>baik</td>\n",
       "    </tr>\n",
       "  </tbody>\n",
       "</table>\n",
       "</div>"
      ],
      "text/plain": [
       "     wind_speed  temperature  relative_humidity  precipitation wind_direction  \\\n",
       "354    4.541667    27.608333          75.241667           11.0          utara   \n",
       "355    3.083333    29.258333          69.654167            0.0          utara   \n",
       "356    4.250000    29.533333          68.500000            0.0     barat daya   \n",
       "357    4.041667    29.433333          66.437500            0.0          utara   \n",
       "358    2.958333    28.866667          74.758333            0.0          utara   \n",
       "\n",
       "    pm2.5  \n",
       "354  baik  \n",
       "355  baik  \n",
       "356  baik  \n",
       "357  baik  \n",
       "358  baik  "
      ]
     },
     "execution_count": 1129,
     "metadata": {},
     "output_type": "execute_result"
    }
   ],
   "source": [
    "df.head()"
   ]
  },
  {
   "cell_type": "markdown",
   "metadata": {},
   "source": [
    "## **Feature Scalling**"
   ]
  },
  {
   "cell_type": "code",
   "execution_count": 1130,
   "metadata": {},
   "outputs": [],
   "source": [
    "# Categorical Columns\n",
    "\n",
    "from sklearn.preprocessing import LabelEncoder\n",
    "\n",
    "df['wind_direction'] = LabelEncoder().fit_transform(df['wind_direction'])\n",
    "df['pm2.5'] = LabelEncoder().fit_transform(df['pm2.5'])\n",
    "\n",
    "# Numerical Columns\n",
    "\n",
    "from sklearn.compose import ColumnTransformer\n",
    "from sklearn.preprocessing import StandardScaler\n",
    "from sklearn.impute import SimpleImputer\n",
    "from sklearn.pipeline import Pipeline \n",
    "\n",
    "numerical_columns = list(df.iloc[:,:-2].columns)\n",
    "\n",
    "numeric_transformer = Pipeline(steps=[\n",
    "    ('imputer', SimpleImputer(strategy='mean')),\n",
    "    ('scaler', StandardScaler())])\n",
    "\n",
    "preprocessor = ColumnTransformer(\n",
    "    transformers=[\n",
    "        ('num', numeric_transformer, numerical_columns)],\n",
    "    remainder='passthrough')\n",
    "\n",
    "## Applying Column Transformer\n",
    "df.iloc[:,:-2] = preprocessor.fit_transform(df.iloc[:,:-2])"
   ]
  },
  {
   "cell_type": "markdown",
   "metadata": {},
   "source": [
    "### **Splitting Data**"
   ]
  },
  {
   "cell_type": "code",
   "execution_count": 1131,
   "metadata": {},
   "outputs": [],
   "source": [
    "# separating features and label\n",
    "\n",
    "x = df.iloc[:, :-1]\n",
    "y = df.iloc[:, -1]"
   ]
  },
  {
   "cell_type": "code",
   "execution_count": 1132,
   "metadata": {},
   "outputs": [
    {
     "name": "stdout",
     "output_type": "stream",
     "text": [
      "Number transactions x_train dataset:  (1886, 5)\n",
      "Number transactions y_train dataset:  (1886,)\n",
      "Number transactions x_test dataset:  (472, 5)\n",
      "Number transactions y_test dataset:  (472,)\n"
     ]
    }
   ],
   "source": [
    "# splitting dataset into training set and testing set\n",
    "\n",
    "from sklearn.model_selection import train_test_split\n",
    "\n",
    "data_splits = train_test_split(x, y, test_size=0.2, random_state=42,\n",
    "                               shuffle=True, stratify=y)\n",
    "x_train, x_test, y_train, y_test = data_splits\n",
    "\n",
    "# describes info about train and test set\n",
    "print(\"Number transactions x_train dataset: \", x_train.shape)\n",
    "print(\"Number transactions y_train dataset: \", y_train.shape)\n",
    "print(\"Number transactions x_test dataset: \", x_test.shape)\n",
    "print(\"Number transactions y_test dataset: \", y_test.shape)"
   ]
  },
  {
   "cell_type": "code",
   "execution_count": 1133,
   "metadata": {},
   "outputs": [
    {
     "data": {
      "text/plain": [
       "0    688\n",
       "2    642\n",
       "1    556\n",
       "Name: pm2.5, dtype: int64"
      ]
     },
     "execution_count": 1133,
     "metadata": {},
     "output_type": "execute_result"
    }
   ],
   "source": [
    "pd.Series(y_train).value_counts()"
   ]
  },
  {
   "cell_type": "code",
   "execution_count": 1134,
   "metadata": {},
   "outputs": [
    {
     "data": {
      "text/plain": [
       "0    172\n",
       "2    161\n",
       "1    139\n",
       "Name: pm2.5, dtype: int64"
      ]
     },
     "execution_count": 1134,
     "metadata": {},
     "output_type": "execute_result"
    }
   ],
   "source": [
    "pd.Series(y_test).value_counts()"
   ]
  },
  {
   "cell_type": "markdown",
   "metadata": {},
   "source": [
    "## **Data Modeling**"
   ]
  },
  {
   "cell_type": "markdown",
   "metadata": {},
   "source": [
    "### **Import Libraries**"
   ]
  },
  {
   "cell_type": "code",
   "execution_count": 1135,
   "metadata": {},
   "outputs": [],
   "source": [
    "from sklearn import metrics\n",
    "from sklearn.feature_selection import SelectFromModel\n",
    "import shap"
   ]
  },
  {
   "cell_type": "markdown",
   "metadata": {},
   "source": [
    "### **AdaBoost**"
   ]
  },
  {
   "cell_type": "code",
   "execution_count": 1137,
   "metadata": {},
   "outputs": [
    {
     "name": "stdout",
     "output_type": "stream",
     "text": [
      "AdaBoost's prediction accuracy is: 0.54\n",
      "AdaBoost's prediction f1-score is: 0.52\n",
      "AdaBoost's prediction MCC is: 0.31\n",
      "Time consumed for training: 0.172\n",
      "Time consumed for prediction: 0.01016 seconds\n",
      "AdaBoostClassifier(algorithm='SAMME', base_estimator=None, learning_rate=0.7,\n",
      "                   n_estimators=100, random_state=1)\n"
     ]
    }
   ],
   "source": [
    "from sklearn.ensemble import AdaBoostClassifier\n",
    "import time\n",
    "\n",
    "ada_model = AdaBoostClassifier(algorithm='SAMME', random_state=1, learning_rate=0.7, n_estimators=100)\n",
    "training_start = time.perf_counter()\n",
    "ada_model.fit(x_train, y_train)\n",
    "training_end = time.perf_counter()\n",
    "prediction_start = time.perf_counter()\n",
    "preds = ada_model.predict(x_test)\n",
    "prediction_end = time.perf_counter()\n",
    "acc_ada = metrics.accuracy_score(y_test,preds)\n",
    "score_ada = metrics.f1_score(y_test,preds,average='weighted')\n",
    "mcc_ada = metrics.matthews_corrcoef(y_test,preds)\n",
    "ada_train_time = training_end-training_start\n",
    "ada_prediction_time = prediction_end-prediction_start\n",
    "\n",
    "print(\"AdaBoost's prediction accuracy is: %3.2f\" % (acc_ada))\n",
    "print(\"AdaBoost's prediction f1-score is: %3.2f\" % (score_ada))\n",
    "print(\"AdaBoost's prediction MCC is: %3.2f\" % (mcc_ada))\n",
    "\n",
    "print(\"Time consumed for training: %4.3f\" % (ada_train_time))\n",
    "print(\"Time consumed for prediction: %6.5f seconds\" % (ada_prediction_time))\n",
    "print(ada_model)"
   ]
  },
  {
   "cell_type": "markdown",
   "metadata": {},
   "source": [
    "### **Gradient Boosting**"
   ]
  },
  {
   "cell_type": "code",
   "execution_count": 1139,
   "metadata": {},
   "outputs": [
    {
     "name": "stdout",
     "output_type": "stream",
     "text": [
      "GradientBoosting's prediction accuracy is: 0.53\n",
      "GradientBoosting's prediction f1-score is: 0.52\n",
      "GradientBoosting's prediction MCC is: 0.29\n",
      "Time consumed for training: 2.213\n",
      "Time consumed for prediction: 0.01178 seconds\n",
      "GradientBoostingClassifier(criterion='friedman_mse', init=None,\n",
      "                           learning_rate=0.04, loss='deviance', max_depth=3,\n",
      "                           max_features=None, max_leaf_nodes=None,\n",
      "                           min_impurity_decrease=0.0, min_impurity_split=None,\n",
      "                           min_samples_leaf=1, min_samples_split=2,\n",
      "                           min_weight_fraction_leaf=0.0, n_estimators=500,\n",
      "                           n_iter_no_change=None, presort='auto',\n",
      "                           random_state=1, subsample=1.0, tol=0.0001,\n",
      "                           validation_fraction=0.1, verbose=0,\n",
      "                           warm_start=False)\n"
     ]
    }
   ],
   "source": [
    "from sklearn.ensemble import GradientBoostingClassifier\n",
    "import time\n",
    "\n",
    "gb_model = GradientBoostingClassifier(random_state=1, learning_rate=0.04, n_estimators=500)\n",
    "training_start = time.perf_counter()\n",
    "gb_model.fit(x_train, y_train)\n",
    "training_end = time.perf_counter()\n",
    "prediction_start = time.perf_counter()\n",
    "preds = gb_model.predict(x_test)\n",
    "prediction_end = time.perf_counter()\n",
    "acc_gb = metrics.accuracy_score(y_test,preds)\n",
    "score_gb = metrics.f1_score(y_test,preds,average='weighted')\n",
    "mcc_gb = metrics.matthews_corrcoef(y_test,preds)\n",
    "gb_train_time = training_end-training_start\n",
    "gb_prediction_time = prediction_end-prediction_start\n",
    "\n",
    "print(\"GradientBoosting's prediction accuracy is: %3.2f\" % (acc_gb))\n",
    "print(\"GradientBoosting's prediction f1-score is: %3.2f\" % (score_gb))\n",
    "print(\"GradientBoosting's prediction MCC is: %3.2f\" % (mcc_gb))\n",
    "\n",
    "print(\"Time consumed for training: %4.3f\" % (gb_train_time))\n",
    "print(\"Time consumed for prediction: %6.5f seconds\" % (gb_prediction_time))\n",
    "print(gb_model)"
   ]
  },
  {
   "cell_type": "markdown",
   "metadata": {},
   "source": [
    "### **XGBoost**"
   ]
  },
  {
   "cell_type": "code",
   "execution_count": 1141,
   "metadata": {},
   "outputs": [
    {
     "name": "stdout",
     "output_type": "stream",
     "text": [
      "XGBoost's prediction accuracy is: 0.54\n",
      "XGBoost's prediction f1-score is: 0.53\n",
      "XGBoost's prediction MCC is: 0.31\n",
      "Time consumed for training: 0.192 seconds\n",
      "Time consumed for prediction: 0.00744 seconds\n",
      "XGBClassifier(base_score=0.5, booster='gbtree', callbacks=None,\n",
      "              colsample_bylevel=1, colsample_bynode=1, colsample_bytree=1,\n",
      "              early_stopping_rounds=None, enable_categorical=False,\n",
      "              eval_metric=None, gamma=0.6, gpu_id=-1, grow_policy='depthwise',\n",
      "              importance_type=None, interaction_constraints='', learning_rate=1,\n",
      "              max_bin=256, max_cat_to_onehot=4, max_delta_step=0, max_depth=1,\n",
      "              max_leaves=0, min_child_weight=6, missing=nan,\n",
      "              monotone_constraints='()', n_estimators=100, n_jobs=0,\n",
      "              num_parallel_tree=1, objective='multi:softprob', predictor='auto',\n",
      "              random_state=1, reg_alpha=1, ...)\n"
     ]
    }
   ],
   "source": [
    "# import XGBClassifier\n",
    "from xgboost import XGBClassifier\n",
    "import time\n",
    "\n",
    "# declare parameters\n",
    "params = {\n",
    "            'objective':'multi:softprob',\n",
    "            'n_estimators':100,\n",
    "            'random_state':1,\n",
    "            'learning_rate':1,\n",
    "            'max_depth':1,\n",
    "            'min_child_weight':6,\n",
    "            'gamma':0.6,\n",
    "            'reg_alpha':1\n",
    "        }\n",
    "            \n",
    "         \n",
    "# instantiate the classifier \n",
    "xgb_clf = XGBClassifier(**params)\n",
    "training_start = time.perf_counter()\n",
    "\n",
    "# fit the classifier to the training data\n",
    "xgb_clf.fit(x_train, y_train)\n",
    "training_end = time.perf_counter()\n",
    "\n",
    "# make predictions on test data\n",
    "prediction_start = time.perf_counter()\n",
    "preds = xgb_clf.predict(x_test)\n",
    "prediction_end = time.perf_counter()\n",
    "acc_xgbp = metrics.accuracy_score(y_test,preds)\n",
    "score_xgbp = metrics.f1_score(y_test,preds,average='weighted')\n",
    "mcc_xgbp = metrics.matthews_corrcoef(y_test,preds)\n",
    "xgbp_train_time = training_end-training_start\n",
    "xgbp_prediction_time = prediction_end-prediction_start\n",
    "\n",
    "print(\"XGBoost's prediction accuracy is: %3.2f\" % (acc_xgbp))\n",
    "print(\"XGBoost's prediction f1-score is: %3.2f\" % (score_xgbp))\n",
    "print(\"XGBoost's prediction MCC is: %3.2f\" % (mcc_xgbp))\n",
    "\n",
    "print(\"Time consumed for training: %4.3f seconds\" % (xgbp_train_time))\n",
    "print(\"Time consumed for prediction: %6.5f seconds\" % (xgbp_prediction_time))\n",
    "print(xgb_clf)"
   ]
  },
  {
   "cell_type": "markdown",
   "metadata": {},
   "source": [
    "### **CatBoost**"
   ]
  },
  {
   "cell_type": "code",
   "execution_count": 1143,
   "metadata": {},
   "outputs": [
    {
     "name": "stdout",
     "output_type": "stream",
     "text": [
      "0:\tlearn: 1.0983700\ttotal: 8.7ms\tremaining: 4.34s\n",
      "1:\tlearn: 1.0981489\ttotal: 12.7ms\tremaining: 3.16s\n",
      "2:\tlearn: 1.0979272\ttotal: 15.8ms\tremaining: 2.62s\n",
      "3:\tlearn: 1.0976794\ttotal: 18.8ms\tremaining: 2.33s\n",
      "4:\tlearn: 1.0974715\ttotal: 21.9ms\tremaining: 2.17s\n",
      "5:\tlearn: 1.0972568\ttotal: 25.3ms\tremaining: 2.08s\n",
      "6:\tlearn: 1.0970135\ttotal: 28.7ms\tremaining: 2.02s\n",
      "7:\tlearn: 1.0967715\ttotal: 31.8ms\tremaining: 1.96s\n",
      "8:\tlearn: 1.0965169\ttotal: 35.2ms\tremaining: 1.92s\n",
      "9:\tlearn: 1.0963026\ttotal: 38.7ms\tremaining: 1.9s\n",
      "10:\tlearn: 1.0960737\ttotal: 43.2ms\tremaining: 1.92s\n",
      "11:\tlearn: 1.0958463\ttotal: 47.4ms\tremaining: 1.93s\n",
      "12:\tlearn: 1.0956349\ttotal: 51.2ms\tremaining: 1.92s\n",
      "13:\tlearn: 1.0954125\ttotal: 54.8ms\tremaining: 1.9s\n",
      "14:\tlearn: 1.0951689\ttotal: 59ms\tremaining: 1.91s\n",
      "15:\tlearn: 1.0949518\ttotal: 62.6ms\tremaining: 1.89s\n",
      "16:\tlearn: 1.0947176\ttotal: 66.1ms\tremaining: 1.88s\n",
      "17:\tlearn: 1.0944816\ttotal: 69.7ms\tremaining: 1.87s\n",
      "18:\tlearn: 1.0942716\ttotal: 74.1ms\tremaining: 1.88s\n",
      "19:\tlearn: 1.0940409\ttotal: 78ms\tremaining: 1.87s\n",
      "20:\tlearn: 1.0938325\ttotal: 81.5ms\tremaining: 1.86s\n",
      "21:\tlearn: 1.0935728\ttotal: 84.9ms\tremaining: 1.84s\n",
      "22:\tlearn: 1.0933351\ttotal: 89.2ms\tremaining: 1.85s\n",
      "23:\tlearn: 1.0931103\ttotal: 92.8ms\tremaining: 1.84s\n",
      "24:\tlearn: 1.0928953\ttotal: 96.1ms\tremaining: 1.83s\n",
      "25:\tlearn: 1.0926535\ttotal: 99.6ms\tremaining: 1.81s\n",
      "26:\tlearn: 1.0924328\ttotal: 104ms\tremaining: 1.81s\n",
      "27:\tlearn: 1.0922037\ttotal: 107ms\tremaining: 1.8s\n",
      "28:\tlearn: 1.0919713\ttotal: 110ms\tremaining: 1.79s\n",
      "29:\tlearn: 1.0917889\ttotal: 114ms\tremaining: 1.78s\n",
      "30:\tlearn: 1.0915728\ttotal: 117ms\tremaining: 1.77s\n",
      "31:\tlearn: 1.0913547\ttotal: 121ms\tremaining: 1.76s\n",
      "32:\tlearn: 1.0911762\ttotal: 124ms\tremaining: 1.76s\n",
      "33:\tlearn: 1.0909443\ttotal: 127ms\tremaining: 1.75s\n",
      "34:\tlearn: 1.0907233\ttotal: 131ms\tremaining: 1.74s\n",
      "35:\tlearn: 1.0905069\ttotal: 135ms\tremaining: 1.74s\n",
      "36:\tlearn: 1.0902722\ttotal: 138ms\tremaining: 1.73s\n",
      "37:\tlearn: 1.0900435\ttotal: 142ms\tremaining: 1.73s\n",
      "38:\tlearn: 1.0898286\ttotal: 145ms\tremaining: 1.72s\n",
      "39:\tlearn: 1.0896230\ttotal: 150ms\tremaining: 1.72s\n",
      "40:\tlearn: 1.0894130\ttotal: 153ms\tremaining: 1.72s\n",
      "41:\tlearn: 1.0891797\ttotal: 157ms\tremaining: 1.71s\n",
      "42:\tlearn: 1.0889559\ttotal: 160ms\tremaining: 1.7s\n",
      "43:\tlearn: 1.0887394\ttotal: 164ms\tremaining: 1.7s\n",
      "44:\tlearn: 1.0885265\ttotal: 167ms\tremaining: 1.69s\n",
      "45:\tlearn: 1.0883191\ttotal: 171ms\tremaining: 1.69s\n",
      "46:\tlearn: 1.0881055\ttotal: 175ms\tremaining: 1.68s\n",
      "47:\tlearn: 1.0878763\ttotal: 179ms\tremaining: 1.68s\n",
      "48:\tlearn: 1.0876795\ttotal: 182ms\tremaining: 1.68s\n",
      "49:\tlearn: 1.0874807\ttotal: 185ms\tremaining: 1.67s\n",
      "50:\tlearn: 1.0872921\ttotal: 189ms\tremaining: 1.66s\n",
      "51:\tlearn: 1.0870877\ttotal: 192ms\tremaining: 1.65s\n",
      "52:\tlearn: 1.0868509\ttotal: 196ms\tremaining: 1.66s\n",
      "53:\tlearn: 1.0866177\ttotal: 200ms\tremaining: 1.65s\n",
      "54:\tlearn: 1.0863864\ttotal: 203ms\tremaining: 1.64s\n",
      "55:\tlearn: 1.0861583\ttotal: 206ms\tremaining: 1.63s\n",
      "56:\tlearn: 1.0859517\ttotal: 211ms\tremaining: 1.64s\n",
      "57:\tlearn: 1.0857536\ttotal: 214ms\tremaining: 1.63s\n",
      "58:\tlearn: 1.0855499\ttotal: 218ms\tremaining: 1.63s\n",
      "59:\tlearn: 1.0853669\ttotal: 222ms\tremaining: 1.63s\n",
      "60:\tlearn: 1.0851415\ttotal: 227ms\tremaining: 1.63s\n",
      "61:\tlearn: 1.0849234\ttotal: 230ms\tremaining: 1.63s\n",
      "62:\tlearn: 1.0847345\ttotal: 234ms\tremaining: 1.62s\n",
      "63:\tlearn: 1.0845403\ttotal: 237ms\tremaining: 1.62s\n",
      "64:\tlearn: 1.0843316\ttotal: 242ms\tremaining: 1.62s\n",
      "65:\tlearn: 1.0841085\ttotal: 245ms\tremaining: 1.61s\n",
      "66:\tlearn: 1.0838958\ttotal: 249ms\tremaining: 1.61s\n",
      "67:\tlearn: 1.0836770\ttotal: 252ms\tremaining: 1.6s\n",
      "68:\tlearn: 1.0834810\ttotal: 256ms\tremaining: 1.6s\n",
      "69:\tlearn: 1.0832587\ttotal: 259ms\tremaining: 1.59s\n",
      "70:\tlearn: 1.0830415\ttotal: 263ms\tremaining: 1.59s\n",
      "71:\tlearn: 1.0828757\ttotal: 266ms\tremaining: 1.58s\n",
      "72:\tlearn: 1.0826672\ttotal: 270ms\tremaining: 1.58s\n",
      "73:\tlearn: 1.0824577\ttotal: 273ms\tremaining: 1.57s\n",
      "74:\tlearn: 1.0822739\ttotal: 277ms\tremaining: 1.57s\n",
      "75:\tlearn: 1.0820632\ttotal: 281ms\tremaining: 1.57s\n",
      "76:\tlearn: 1.0818693\ttotal: 283ms\tremaining: 1.55s\n",
      "77:\tlearn: 1.0816858\ttotal: 287ms\tremaining: 1.55s\n",
      "78:\tlearn: 1.0814682\ttotal: 291ms\tremaining: 1.55s\n",
      "79:\tlearn: 1.0812724\ttotal: 294ms\tremaining: 1.55s\n",
      "80:\tlearn: 1.0810837\ttotal: 298ms\tremaining: 1.54s\n",
      "81:\tlearn: 1.0808986\ttotal: 302ms\tremaining: 1.54s\n",
      "82:\tlearn: 1.0806979\ttotal: 306ms\tremaining: 1.53s\n",
      "83:\tlearn: 1.0804879\ttotal: 309ms\tremaining: 1.53s\n",
      "84:\tlearn: 1.0802631\ttotal: 313ms\tremaining: 1.53s\n",
      "85:\tlearn: 1.0800591\ttotal: 316ms\tremaining: 1.52s\n",
      "86:\tlearn: 1.0798607\ttotal: 320ms\tremaining: 1.52s\n",
      "87:\tlearn: 1.0796573\ttotal: 323ms\tremaining: 1.51s\n",
      "88:\tlearn: 1.0794559\ttotal: 327ms\tremaining: 1.51s\n",
      "89:\tlearn: 1.0792595\ttotal: 331ms\tremaining: 1.51s\n",
      "90:\tlearn: 1.0790470\ttotal: 334ms\tremaining: 1.5s\n",
      "91:\tlearn: 1.0788407\ttotal: 338ms\tremaining: 1.5s\n",
      "92:\tlearn: 1.0786343\ttotal: 341ms\tremaining: 1.49s\n",
      "93:\tlearn: 1.0784257\ttotal: 345ms\tremaining: 1.49s\n",
      "94:\tlearn: 1.0782236\ttotal: 349ms\tremaining: 1.49s\n",
      "95:\tlearn: 1.0780149\ttotal: 353ms\tremaining: 1.49s\n",
      "96:\tlearn: 1.0778378\ttotal: 357ms\tremaining: 1.48s\n",
      "97:\tlearn: 1.0776280\ttotal: 361ms\tremaining: 1.48s\n",
      "98:\tlearn: 1.0774308\ttotal: 365ms\tremaining: 1.48s\n",
      "99:\tlearn: 1.0772143\ttotal: 369ms\tremaining: 1.47s\n",
      "100:\tlearn: 1.0770013\ttotal: 372ms\tremaining: 1.47s\n",
      "101:\tlearn: 1.0767992\ttotal: 376ms\tremaining: 1.47s\n",
      "102:\tlearn: 1.0765942\ttotal: 380ms\tremaining: 1.46s\n",
      "103:\tlearn: 1.0763789\ttotal: 384ms\tremaining: 1.46s\n",
      "104:\tlearn: 1.0761796\ttotal: 387ms\tremaining: 1.46s\n",
      "105:\tlearn: 1.0759644\ttotal: 391ms\tremaining: 1.45s\n",
      "106:\tlearn: 1.0757654\ttotal: 395ms\tremaining: 1.45s\n",
      "107:\tlearn: 1.0755772\ttotal: 398ms\tremaining: 1.44s\n",
      "108:\tlearn: 1.0753886\ttotal: 401ms\tremaining: 1.44s\n",
      "109:\tlearn: 1.0751942\ttotal: 405ms\tremaining: 1.44s\n",
      "110:\tlearn: 1.0749856\ttotal: 409ms\tremaining: 1.43s\n",
      "111:\tlearn: 1.0747820\ttotal: 412ms\tremaining: 1.43s\n",
      "112:\tlearn: 1.0745675\ttotal: 415ms\tremaining: 1.42s\n",
      "113:\tlearn: 1.0743680\ttotal: 419ms\tremaining: 1.42s\n",
      "114:\tlearn: 1.0741822\ttotal: 423ms\tremaining: 1.42s\n",
      "115:\tlearn: 1.0740055\ttotal: 427ms\tremaining: 1.41s\n",
      "116:\tlearn: 1.0738215\ttotal: 430ms\tremaining: 1.41s\n",
      "117:\tlearn: 1.0736098\ttotal: 434ms\tremaining: 1.4s\n",
      "118:\tlearn: 1.0734128\ttotal: 438ms\tremaining: 1.4s\n",
      "119:\tlearn: 1.0732141\ttotal: 441ms\tremaining: 1.4s\n",
      "120:\tlearn: 1.0730081\ttotal: 445ms\tremaining: 1.39s\n",
      "121:\tlearn: 1.0728104\ttotal: 448ms\tremaining: 1.39s\n",
      "122:\tlearn: 1.0726369\ttotal: 451ms\tremaining: 1.38s\n",
      "123:\tlearn: 1.0724511\ttotal: 455ms\tremaining: 1.38s\n",
      "124:\tlearn: 1.0722372\ttotal: 459ms\tremaining: 1.38s\n",
      "125:\tlearn: 1.0720682\ttotal: 462ms\tremaining: 1.37s\n",
      "126:\tlearn: 1.0719109\ttotal: 466ms\tremaining: 1.37s\n",
      "127:\tlearn: 1.0717484\ttotal: 470ms\tremaining: 1.37s\n",
      "128:\tlearn: 1.0715625\ttotal: 474ms\tremaining: 1.36s\n",
      "129:\tlearn: 1.0713809\ttotal: 478ms\tremaining: 1.36s\n",
      "130:\tlearn: 1.0712216\ttotal: 481ms\tremaining: 1.35s\n",
      "131:\tlearn: 1.0710697\ttotal: 486ms\tremaining: 1.35s\n",
      "132:\tlearn: 1.0708630\ttotal: 489ms\tremaining: 1.35s\n",
      "133:\tlearn: 1.0706791\ttotal: 493ms\tremaining: 1.35s\n",
      "134:\tlearn: 1.0704873\ttotal: 496ms\tremaining: 1.34s\n",
      "135:\tlearn: 1.0702891\ttotal: 501ms\tremaining: 1.34s\n",
      "136:\tlearn: 1.0701212\ttotal: 505ms\tremaining: 1.34s\n",
      "137:\tlearn: 1.0699300\ttotal: 508ms\tremaining: 1.33s\n",
      "138:\tlearn: 1.0697401\ttotal: 512ms\tremaining: 1.33s\n",
      "139:\tlearn: 1.0695443\ttotal: 516ms\tremaining: 1.33s\n",
      "140:\tlearn: 1.0693602\ttotal: 519ms\tremaining: 1.32s\n",
      "141:\tlearn: 1.0692058\ttotal: 522ms\tremaining: 1.31s\n",
      "142:\tlearn: 1.0689976\ttotal: 525ms\tremaining: 1.31s\n",
      "143:\tlearn: 1.0688016\ttotal: 529ms\tremaining: 1.31s\n",
      "144:\tlearn: 1.0685998\ttotal: 533ms\tremaining: 1.3s\n",
      "145:\tlearn: 1.0684046\ttotal: 537ms\tremaining: 1.3s\n",
      "146:\tlearn: 1.0682249\ttotal: 540ms\tremaining: 1.3s\n",
      "147:\tlearn: 1.0680343\ttotal: 544ms\tremaining: 1.29s\n",
      "148:\tlearn: 1.0678779\ttotal: 548ms\tremaining: 1.29s\n",
      "149:\tlearn: 1.0676817\ttotal: 552ms\tremaining: 1.29s\n",
      "150:\tlearn: 1.0674991\ttotal: 555ms\tremaining: 1.28s\n",
      "151:\tlearn: 1.0673064\ttotal: 559ms\tremaining: 1.28s\n",
      "152:\tlearn: 1.0671218\ttotal: 563ms\tremaining: 1.28s\n",
      "153:\tlearn: 1.0669368\ttotal: 566ms\tremaining: 1.27s\n",
      "154:\tlearn: 1.0667698\ttotal: 570ms\tremaining: 1.27s\n",
      "155:\tlearn: 1.0665670\ttotal: 574ms\tremaining: 1.26s\n",
      "156:\tlearn: 1.0664016\ttotal: 579ms\tremaining: 1.26s\n",
      "157:\tlearn: 1.0662125\ttotal: 582ms\tremaining: 1.26s\n",
      "158:\tlearn: 1.0660238\ttotal: 586ms\tremaining: 1.25s\n",
      "159:\tlearn: 1.0658574\ttotal: 589ms\tremaining: 1.25s\n",
      "160:\tlearn: 1.0656963\ttotal: 593ms\tremaining: 1.25s\n",
      "161:\tlearn: 1.0655100\ttotal: 597ms\tremaining: 1.25s\n",
      "162:\tlearn: 1.0653158\ttotal: 600ms\tremaining: 1.24s\n",
      "163:\tlearn: 1.0651537\ttotal: 604ms\tremaining: 1.24s\n",
      "164:\tlearn: 1.0649741\ttotal: 609ms\tremaining: 1.24s\n",
      "165:\tlearn: 1.0647924\ttotal: 612ms\tremaining: 1.23s\n",
      "166:\tlearn: 1.0646175\ttotal: 616ms\tremaining: 1.23s\n",
      "167:\tlearn: 1.0644382\ttotal: 620ms\tremaining: 1.22s\n",
      "168:\tlearn: 1.0642429\ttotal: 624ms\tremaining: 1.22s\n",
      "169:\tlearn: 1.0640812\ttotal: 628ms\tremaining: 1.22s\n",
      "170:\tlearn: 1.0638990\ttotal: 631ms\tremaining: 1.21s\n",
      "171:\tlearn: 1.0637213\ttotal: 635ms\tremaining: 1.21s\n",
      "172:\tlearn: 1.0635281\ttotal: 639ms\tremaining: 1.21s\n",
      "173:\tlearn: 1.0633624\ttotal: 642ms\tremaining: 1.2s\n",
      "174:\tlearn: 1.0632066\ttotal: 646ms\tremaining: 1.2s\n",
      "175:\tlearn: 1.0630194\ttotal: 649ms\tremaining: 1.2s\n",
      "176:\tlearn: 1.0628642\ttotal: 651ms\tremaining: 1.19s\n",
      "177:\tlearn: 1.0627004\ttotal: 655ms\tremaining: 1.19s\n",
      "178:\tlearn: 1.0625118\ttotal: 659ms\tremaining: 1.18s\n",
      "179:\tlearn: 1.0623251\ttotal: 662ms\tremaining: 1.18s\n",
      "180:\tlearn: 1.0621581\ttotal: 666ms\tremaining: 1.17s\n",
      "181:\tlearn: 1.0619999\ttotal: 670ms\tremaining: 1.17s\n",
      "182:\tlearn: 1.0618377\ttotal: 673ms\tremaining: 1.17s\n",
      "183:\tlearn: 1.0616706\ttotal: 677ms\tremaining: 1.16s\n",
      "184:\tlearn: 1.0614948\ttotal: 680ms\tremaining: 1.16s\n",
      "185:\tlearn: 1.0613423\ttotal: 684ms\tremaining: 1.15s\n",
      "186:\tlearn: 1.0611518\ttotal: 687ms\tremaining: 1.15s\n",
      "187:\tlearn: 1.0610090\ttotal: 691ms\tremaining: 1.15s\n",
      "188:\tlearn: 1.0608395\ttotal: 695ms\tremaining: 1.14s\n",
      "189:\tlearn: 1.0606862\ttotal: 699ms\tremaining: 1.14s\n",
      "190:\tlearn: 1.0605327\ttotal: 703ms\tremaining: 1.14s\n",
      "191:\tlearn: 1.0603534\ttotal: 706ms\tremaining: 1.13s\n",
      "192:\tlearn: 1.0601738\ttotal: 710ms\tremaining: 1.13s\n",
      "193:\tlearn: 1.0600149\ttotal: 713ms\tremaining: 1.12s\n",
      "194:\tlearn: 1.0598496\ttotal: 717ms\tremaining: 1.12s\n",
      "195:\tlearn: 1.0596836\ttotal: 721ms\tremaining: 1.12s\n",
      "196:\tlearn: 1.0594970\ttotal: 724ms\tremaining: 1.11s\n",
      "197:\tlearn: 1.0593310\ttotal: 728ms\tremaining: 1.11s\n",
      "198:\tlearn: 1.0591545\ttotal: 732ms\tremaining: 1.11s\n",
      "199:\tlearn: 1.0589630\ttotal: 736ms\tremaining: 1.1s\n",
      "200:\tlearn: 1.0588220\ttotal: 739ms\tremaining: 1.1s\n",
      "201:\tlearn: 1.0586466\ttotal: 742ms\tremaining: 1.09s\n",
      "202:\tlearn: 1.0584993\ttotal: 746ms\tremaining: 1.09s\n",
      "203:\tlearn: 1.0583167\ttotal: 749ms\tremaining: 1.09s\n",
      "204:\tlearn: 1.0581823\ttotal: 751ms\tremaining: 1.08s\n",
      "205:\tlearn: 1.0580299\ttotal: 754ms\tremaining: 1.08s\n",
      "206:\tlearn: 1.0578645\ttotal: 758ms\tremaining: 1.07s\n",
      "207:\tlearn: 1.0576782\ttotal: 762ms\tremaining: 1.07s\n",
      "208:\tlearn: 1.0575376\ttotal: 766ms\tremaining: 1.07s\n",
      "209:\tlearn: 1.0573861\ttotal: 769ms\tremaining: 1.06s\n",
      "210:\tlearn: 1.0572075\ttotal: 773ms\tremaining: 1.06s\n",
      "211:\tlearn: 1.0570488\ttotal: 778ms\tremaining: 1.06s\n",
      "212:\tlearn: 1.0568724\ttotal: 781ms\tremaining: 1.05s\n",
      "213:\tlearn: 1.0567055\ttotal: 785ms\tremaining: 1.05s\n",
      "214:\tlearn: 1.0565374\ttotal: 789ms\tremaining: 1.04s\n",
      "215:\tlearn: 1.0563689\ttotal: 793ms\tremaining: 1.04s\n",
      "216:\tlearn: 1.0562243\ttotal: 796ms\tremaining: 1.04s\n",
      "217:\tlearn: 1.0560654\ttotal: 800ms\tremaining: 1.03s\n",
      "218:\tlearn: 1.0559196\ttotal: 803ms\tremaining: 1.03s\n",
      "219:\tlearn: 1.0557608\ttotal: 807ms\tremaining: 1.03s\n",
      "220:\tlearn: 1.0556035\ttotal: 811ms\tremaining: 1.02s\n",
      "221:\tlearn: 1.0554205\ttotal: 814ms\tremaining: 1.02s\n",
      "222:\tlearn: 1.0552491\ttotal: 818ms\tremaining: 1.01s\n",
      "223:\tlearn: 1.0550903\ttotal: 821ms\tremaining: 1.01s\n",
      "224:\tlearn: 1.0549095\ttotal: 825ms\tremaining: 1.01s\n",
      "225:\tlearn: 1.0547432\ttotal: 828ms\tremaining: 1s\n",
      "226:\tlearn: 1.0546042\ttotal: 831ms\tremaining: 999ms\n",
      "227:\tlearn: 1.0544338\ttotal: 835ms\tremaining: 996ms\n",
      "228:\tlearn: 1.0542639\ttotal: 839ms\tremaining: 993ms\n",
      "229:\tlearn: 1.0540990\ttotal: 843ms\tremaining: 989ms\n",
      "230:\tlearn: 1.0539409\ttotal: 846ms\tremaining: 985ms\n",
      "231:\tlearn: 1.0537617\ttotal: 850ms\tremaining: 981ms\n",
      "232:\tlearn: 1.0536113\ttotal: 853ms\tremaining: 978ms\n",
      "233:\tlearn: 1.0534858\ttotal: 857ms\tremaining: 974ms\n",
      "234:\tlearn: 1.0533307\ttotal: 860ms\tremaining: 970ms\n",
      "235:\tlearn: 1.0531836\ttotal: 864ms\tremaining: 966ms\n",
      "236:\tlearn: 1.0530116\ttotal: 867ms\tremaining: 962ms\n",
      "237:\tlearn: 1.0528811\ttotal: 871ms\tremaining: 959ms\n",
      "238:\tlearn: 1.0527310\ttotal: 874ms\tremaining: 955ms\n",
      "239:\tlearn: 1.0525752\ttotal: 879ms\tremaining: 952ms\n",
      "240:\tlearn: 1.0524250\ttotal: 882ms\tremaining: 948ms\n",
      "241:\tlearn: 1.0522609\ttotal: 886ms\tremaining: 944ms\n",
      "242:\tlearn: 1.0520815\ttotal: 889ms\tremaining: 941ms\n",
      "243:\tlearn: 1.0519407\ttotal: 893ms\tremaining: 937ms\n",
      "244:\tlearn: 1.0518148\ttotal: 896ms\tremaining: 933ms\n",
      "245:\tlearn: 1.0516630\ttotal: 900ms\tremaining: 930ms\n",
      "246:\tlearn: 1.0514913\ttotal: 904ms\tremaining: 926ms\n",
      "247:\tlearn: 1.0513326\ttotal: 907ms\tremaining: 922ms\n",
      "248:\tlearn: 1.0511626\ttotal: 911ms\tremaining: 918ms\n",
      "249:\tlearn: 1.0510311\ttotal: 915ms\tremaining: 915ms\n",
      "250:\tlearn: 1.0508755\ttotal: 918ms\tremaining: 911ms\n",
      "251:\tlearn: 1.0507529\ttotal: 922ms\tremaining: 907ms\n",
      "252:\tlearn: 1.0505942\ttotal: 925ms\tremaining: 904ms\n",
      "253:\tlearn: 1.0504375\ttotal: 929ms\tremaining: 900ms\n",
      "254:\tlearn: 1.0502649\ttotal: 933ms\tremaining: 897ms\n",
      "255:\tlearn: 1.0501180\ttotal: 937ms\tremaining: 893ms\n",
      "256:\tlearn: 1.0499423\ttotal: 940ms\tremaining: 889ms\n",
      "257:\tlearn: 1.0497654\ttotal: 944ms\tremaining: 886ms\n",
      "258:\tlearn: 1.0496058\ttotal: 948ms\tremaining: 882ms\n",
      "259:\tlearn: 1.0494424\ttotal: 952ms\tremaining: 878ms\n",
      "260:\tlearn: 1.0492693\ttotal: 955ms\tremaining: 875ms\n",
      "261:\tlearn: 1.0491255\ttotal: 959ms\tremaining: 871ms\n",
      "262:\tlearn: 1.0489745\ttotal: 963ms\tremaining: 868ms\n",
      "263:\tlearn: 1.0488037\ttotal: 966ms\tremaining: 864ms\n",
      "264:\tlearn: 1.0486461\ttotal: 970ms\tremaining: 860ms\n",
      "265:\tlearn: 1.0485064\ttotal: 973ms\tremaining: 856ms\n",
      "266:\tlearn: 1.0483382\ttotal: 978ms\tremaining: 853ms\n",
      "267:\tlearn: 1.0481668\ttotal: 981ms\tremaining: 850ms\n",
      "268:\tlearn: 1.0480188\ttotal: 985ms\tremaining: 846ms\n",
      "269:\tlearn: 1.0478603\ttotal: 988ms\tremaining: 842ms\n",
      "270:\tlearn: 1.0477155\ttotal: 993ms\tremaining: 839ms\n",
      "271:\tlearn: 1.0475728\ttotal: 996ms\tremaining: 835ms\n",
      "272:\tlearn: 1.0474207\ttotal: 1000ms\tremaining: 831ms\n",
      "273:\tlearn: 1.0472661\ttotal: 1s\tremaining: 828ms\n",
      "274:\tlearn: 1.0471290\ttotal: 1.01s\tremaining: 825ms\n",
      "275:\tlearn: 1.0469783\ttotal: 1.01s\tremaining: 821ms\n",
      "276:\tlearn: 1.0468366\ttotal: 1.01s\tremaining: 817ms\n",
      "277:\tlearn: 1.0466831\ttotal: 1.02s\tremaining: 813ms\n",
      "278:\tlearn: 1.0465413\ttotal: 1.02s\tremaining: 810ms\n",
      "279:\tlearn: 1.0463969\ttotal: 1.03s\tremaining: 806ms\n",
      "280:\tlearn: 1.0462374\ttotal: 1.03s\tremaining: 803ms\n",
      "281:\tlearn: 1.0460953\ttotal: 1.03s\tremaining: 799ms\n",
      "282:\tlearn: 1.0459478\ttotal: 1.04s\tremaining: 796ms\n",
      "283:\tlearn: 1.0457929\ttotal: 1.04s\tremaining: 792ms\n",
      "284:\tlearn: 1.0456321\ttotal: 1.04s\tremaining: 788ms\n",
      "285:\tlearn: 1.0454533\ttotal: 1.05s\tremaining: 785ms\n",
      "286:\tlearn: 1.0453032\ttotal: 1.05s\tremaining: 781ms\n",
      "287:\tlearn: 1.0451480\ttotal: 1.06s\tremaining: 778ms\n",
      "288:\tlearn: 1.0449852\ttotal: 1.06s\tremaining: 774ms\n",
      "289:\tlearn: 1.0448370\ttotal: 1.06s\tremaining: 770ms\n",
      "290:\tlearn: 1.0446926\ttotal: 1.07s\tremaining: 767ms\n",
      "291:\tlearn: 1.0445611\ttotal: 1.07s\tremaining: 763ms\n",
      "292:\tlearn: 1.0443928\ttotal: 1.07s\tremaining: 759ms\n",
      "293:\tlearn: 1.0442300\ttotal: 1.08s\tremaining: 756ms\n",
      "294:\tlearn: 1.0440778\ttotal: 1.08s\tremaining: 753ms\n",
      "295:\tlearn: 1.0439493\ttotal: 1.09s\tremaining: 749ms\n",
      "296:\tlearn: 1.0438094\ttotal: 1.09s\tremaining: 746ms\n",
      "297:\tlearn: 1.0436812\ttotal: 1.09s\tremaining: 742ms\n",
      "298:\tlearn: 1.0435288\ttotal: 1.1s\tremaining: 739ms\n",
      "299:\tlearn: 1.0434017\ttotal: 1.1s\tremaining: 735ms\n",
      "300:\tlearn: 1.0432521\ttotal: 1.11s\tremaining: 731ms\n",
      "301:\tlearn: 1.0430889\ttotal: 1.11s\tremaining: 728ms\n",
      "302:\tlearn: 1.0429572\ttotal: 1.11s\tremaining: 724ms\n",
      "303:\tlearn: 1.0427920\ttotal: 1.12s\tremaining: 720ms\n",
      "304:\tlearn: 1.0426441\ttotal: 1.12s\tremaining: 717ms\n",
      "305:\tlearn: 1.0424998\ttotal: 1.12s\tremaining: 713ms\n",
      "306:\tlearn: 1.0423779\ttotal: 1.13s\tremaining: 710ms\n",
      "307:\tlearn: 1.0422271\ttotal: 1.13s\tremaining: 706ms\n",
      "308:\tlearn: 1.0420768\ttotal: 1.14s\tremaining: 702ms\n",
      "309:\tlearn: 1.0419508\ttotal: 1.14s\tremaining: 698ms\n",
      "310:\tlearn: 1.0417905\ttotal: 1.14s\tremaining: 695ms\n",
      "311:\tlearn: 1.0416361\ttotal: 1.15s\tremaining: 691ms\n",
      "312:\tlearn: 1.0414940\ttotal: 1.15s\tremaining: 687ms\n",
      "313:\tlearn: 1.0413506\ttotal: 1.15s\tremaining: 683ms\n",
      "314:\tlearn: 1.0412003\ttotal: 1.16s\tremaining: 679ms\n",
      "315:\tlearn: 1.0410772\ttotal: 1.16s\tremaining: 676ms\n",
      "316:\tlearn: 1.0409184\ttotal: 1.16s\tremaining: 672ms\n",
      "317:\tlearn: 1.0407789\ttotal: 1.17s\tremaining: 668ms\n",
      "318:\tlearn: 1.0406266\ttotal: 1.17s\tremaining: 665ms\n",
      "319:\tlearn: 1.0405041\ttotal: 1.18s\tremaining: 661ms\n",
      "320:\tlearn: 1.0403540\ttotal: 1.18s\tremaining: 658ms\n",
      "321:\tlearn: 1.0402195\ttotal: 1.18s\tremaining: 654ms\n",
      "322:\tlearn: 1.0400626\ttotal: 1.19s\tremaining: 650ms\n",
      "323:\tlearn: 1.0399517\ttotal: 1.19s\tremaining: 647ms\n",
      "324:\tlearn: 1.0398151\ttotal: 1.19s\tremaining: 643ms\n",
      "325:\tlearn: 1.0396611\ttotal: 1.2s\tremaining: 639ms\n",
      "326:\tlearn: 1.0395129\ttotal: 1.2s\tremaining: 636ms\n",
      "327:\tlearn: 1.0393577\ttotal: 1.21s\tremaining: 633ms\n",
      "328:\tlearn: 1.0392073\ttotal: 1.21s\tremaining: 629ms\n",
      "329:\tlearn: 1.0390607\ttotal: 1.21s\tremaining: 625ms\n",
      "330:\tlearn: 1.0389103\ttotal: 1.22s\tremaining: 622ms\n",
      "331:\tlearn: 1.0387660\ttotal: 1.22s\tremaining: 619ms\n",
      "332:\tlearn: 1.0386237\ttotal: 1.23s\tremaining: 615ms\n",
      "333:\tlearn: 1.0384782\ttotal: 1.23s\tremaining: 611ms\n",
      "334:\tlearn: 1.0383347\ttotal: 1.23s\tremaining: 607ms\n",
      "335:\tlearn: 1.0381902\ttotal: 1.24s\tremaining: 604ms\n",
      "336:\tlearn: 1.0380517\ttotal: 1.24s\tremaining: 600ms\n",
      "337:\tlearn: 1.0379119\ttotal: 1.24s\tremaining: 597ms\n",
      "338:\tlearn: 1.0377869\ttotal: 1.25s\tremaining: 593ms\n",
      "339:\tlearn: 1.0376429\ttotal: 1.25s\tremaining: 590ms\n",
      "340:\tlearn: 1.0375036\ttotal: 1.26s\tremaining: 586ms\n",
      "341:\tlearn: 1.0373506\ttotal: 1.26s\tremaining: 582ms\n",
      "342:\tlearn: 1.0372149\ttotal: 1.26s\tremaining: 578ms\n",
      "343:\tlearn: 1.0370798\ttotal: 1.27s\tremaining: 575ms\n",
      "344:\tlearn: 1.0369432\ttotal: 1.27s\tremaining: 571ms\n",
      "345:\tlearn: 1.0368055\ttotal: 1.27s\tremaining: 567ms\n",
      "346:\tlearn: 1.0366739\ttotal: 1.28s\tremaining: 564ms\n",
      "347:\tlearn: 1.0365417\ttotal: 1.28s\tremaining: 560ms\n",
      "348:\tlearn: 1.0363930\ttotal: 1.29s\tremaining: 557ms\n",
      "349:\tlearn: 1.0362744\ttotal: 1.29s\tremaining: 553ms\n",
      "350:\tlearn: 1.0361506\ttotal: 1.29s\tremaining: 549ms\n",
      "351:\tlearn: 1.0360137\ttotal: 1.3s\tremaining: 546ms\n",
      "352:\tlearn: 1.0358758\ttotal: 1.3s\tremaining: 542ms\n",
      "353:\tlearn: 1.0357421\ttotal: 1.3s\tremaining: 538ms\n",
      "354:\tlearn: 1.0356079\ttotal: 1.31s\tremaining: 535ms\n",
      "355:\tlearn: 1.0354940\ttotal: 1.31s\tremaining: 531ms\n",
      "356:\tlearn: 1.0353549\ttotal: 1.32s\tremaining: 528ms\n",
      "357:\tlearn: 1.0352165\ttotal: 1.32s\tremaining: 524ms\n",
      "358:\tlearn: 1.0350781\ttotal: 1.32s\tremaining: 520ms\n",
      "359:\tlearn: 1.0349566\ttotal: 1.33s\tremaining: 516ms\n",
      "360:\tlearn: 1.0348067\ttotal: 1.33s\tremaining: 513ms\n",
      "361:\tlearn: 1.0346906\ttotal: 1.33s\tremaining: 509ms\n",
      "362:\tlearn: 1.0345568\ttotal: 1.34s\tremaining: 505ms\n",
      "363:\tlearn: 1.0344154\ttotal: 1.34s\tremaining: 502ms\n",
      "364:\tlearn: 1.0342944\ttotal: 1.34s\tremaining: 498ms\n",
      "365:\tlearn: 1.0341723\ttotal: 1.35s\tremaining: 494ms\n",
      "366:\tlearn: 1.0340388\ttotal: 1.35s\tremaining: 490ms\n",
      "367:\tlearn: 1.0339135\ttotal: 1.36s\tremaining: 486ms\n",
      "368:\tlearn: 1.0337840\ttotal: 1.36s\tremaining: 483ms\n",
      "369:\tlearn: 1.0336481\ttotal: 1.36s\tremaining: 479ms\n",
      "370:\tlearn: 1.0335120\ttotal: 1.37s\tremaining: 476ms\n",
      "371:\tlearn: 1.0333701\ttotal: 1.37s\tremaining: 472ms\n",
      "372:\tlearn: 1.0332394\ttotal: 1.38s\tremaining: 468ms\n",
      "373:\tlearn: 1.0331045\ttotal: 1.38s\tremaining: 465ms\n",
      "374:\tlearn: 1.0329732\ttotal: 1.38s\tremaining: 461ms\n",
      "375:\tlearn: 1.0328412\ttotal: 1.39s\tremaining: 457ms\n",
      "376:\tlearn: 1.0327044\ttotal: 1.39s\tremaining: 454ms\n",
      "377:\tlearn: 1.0325706\ttotal: 1.4s\tremaining: 450ms\n",
      "378:\tlearn: 1.0324344\ttotal: 1.4s\tremaining: 447ms\n",
      "379:\tlearn: 1.0323089\ttotal: 1.4s\tremaining: 443ms\n",
      "380:\tlearn: 1.0321843\ttotal: 1.41s\tremaining: 439ms\n",
      "381:\tlearn: 1.0320519\ttotal: 1.41s\tremaining: 436ms\n",
      "382:\tlearn: 1.0319322\ttotal: 1.41s\tremaining: 432ms\n",
      "383:\tlearn: 1.0318132\ttotal: 1.42s\tremaining: 428ms\n",
      "384:\tlearn: 1.0316837\ttotal: 1.42s\tremaining: 424ms\n",
      "385:\tlearn: 1.0315753\ttotal: 1.42s\tremaining: 421ms\n",
      "386:\tlearn: 1.0314335\ttotal: 1.43s\tremaining: 417ms\n",
      "387:\tlearn: 1.0312988\ttotal: 1.43s\tremaining: 413ms\n",
      "388:\tlearn: 1.0311508\ttotal: 1.43s\tremaining: 409ms\n",
      "389:\tlearn: 1.0310118\ttotal: 1.44s\tremaining: 406ms\n",
      "390:\tlearn: 1.0309051\ttotal: 1.44s\tremaining: 402ms\n",
      "391:\tlearn: 1.0307745\ttotal: 1.45s\tremaining: 398ms\n",
      "392:\tlearn: 1.0306397\ttotal: 1.45s\tremaining: 395ms\n",
      "393:\tlearn: 1.0305227\ttotal: 1.45s\tremaining: 391ms\n",
      "394:\tlearn: 1.0303937\ttotal: 1.46s\tremaining: 387ms\n",
      "395:\tlearn: 1.0302750\ttotal: 1.46s\tremaining: 384ms\n",
      "396:\tlearn: 1.0301428\ttotal: 1.46s\tremaining: 380ms\n",
      "397:\tlearn: 1.0300178\ttotal: 1.47s\tremaining: 376ms\n",
      "398:\tlearn: 1.0298908\ttotal: 1.47s\tremaining: 373ms\n",
      "399:\tlearn: 1.0297674\ttotal: 1.48s\tremaining: 369ms\n",
      "400:\tlearn: 1.0296377\ttotal: 1.48s\tremaining: 365ms\n",
      "401:\tlearn: 1.0295049\ttotal: 1.48s\tremaining: 362ms\n",
      "402:\tlearn: 1.0293784\ttotal: 1.49s\tremaining: 358ms\n",
      "403:\tlearn: 1.0292416\ttotal: 1.49s\tremaining: 354ms\n",
      "404:\tlearn: 1.0291070\ttotal: 1.49s\tremaining: 351ms\n",
      "405:\tlearn: 1.0289778\ttotal: 1.5s\tremaining: 347ms\n",
      "406:\tlearn: 1.0288836\ttotal: 1.5s\tremaining: 343ms\n",
      "407:\tlearn: 1.0287760\ttotal: 1.5s\tremaining: 339ms\n",
      "408:\tlearn: 1.0286605\ttotal: 1.51s\tremaining: 336ms\n",
      "409:\tlearn: 1.0285283\ttotal: 1.51s\tremaining: 332ms\n",
      "410:\tlearn: 1.0284040\ttotal: 1.51s\tremaining: 328ms\n",
      "411:\tlearn: 1.0282494\ttotal: 1.52s\tremaining: 324ms\n",
      "412:\tlearn: 1.0281179\ttotal: 1.52s\tremaining: 321ms\n",
      "413:\tlearn: 1.0279936\ttotal: 1.53s\tremaining: 317ms\n",
      "414:\tlearn: 1.0278830\ttotal: 1.53s\tremaining: 313ms\n",
      "415:\tlearn: 1.0277537\ttotal: 1.53s\tremaining: 310ms\n",
      "416:\tlearn: 1.0276343\ttotal: 1.54s\tremaining: 306ms\n",
      "417:\tlearn: 1.0275140\ttotal: 1.54s\tremaining: 302ms\n",
      "418:\tlearn: 1.0273794\ttotal: 1.54s\tremaining: 299ms\n",
      "419:\tlearn: 1.0272956\ttotal: 1.55s\tremaining: 295ms\n",
      "420:\tlearn: 1.0271708\ttotal: 1.55s\tremaining: 291ms\n",
      "421:\tlearn: 1.0270515\ttotal: 1.56s\tremaining: 288ms\n",
      "422:\tlearn: 1.0269258\ttotal: 1.56s\tremaining: 284ms\n",
      "423:\tlearn: 1.0268026\ttotal: 1.56s\tremaining: 280ms\n",
      "424:\tlearn: 1.0266806\ttotal: 1.57s\tremaining: 277ms\n",
      "425:\tlearn: 1.0265571\ttotal: 1.57s\tremaining: 273ms\n",
      "426:\tlearn: 1.0264566\ttotal: 1.57s\tremaining: 269ms\n",
      "427:\tlearn: 1.0263531\ttotal: 1.58s\tremaining: 265ms\n",
      "428:\tlearn: 1.0262152\ttotal: 1.58s\tremaining: 262ms\n",
      "429:\tlearn: 1.0260903\ttotal: 1.58s\tremaining: 258ms\n",
      "430:\tlearn: 1.0259573\ttotal: 1.59s\tremaining: 254ms\n",
      "431:\tlearn: 1.0258309\ttotal: 1.59s\tremaining: 251ms\n",
      "432:\tlearn: 1.0257104\ttotal: 1.6s\tremaining: 247ms\n",
      "433:\tlearn: 1.0255700\ttotal: 1.6s\tremaining: 243ms\n",
      "434:\tlearn: 1.0254355\ttotal: 1.6s\tremaining: 240ms\n",
      "435:\tlearn: 1.0253020\ttotal: 1.61s\tremaining: 236ms\n",
      "436:\tlearn: 1.0251739\ttotal: 1.61s\tremaining: 232ms\n",
      "437:\tlearn: 1.0250493\ttotal: 1.61s\tremaining: 229ms\n",
      "438:\tlearn: 1.0249293\ttotal: 1.62s\tremaining: 225ms\n",
      "439:\tlearn: 1.0248195\ttotal: 1.62s\tremaining: 221ms\n",
      "440:\tlearn: 1.0246949\ttotal: 1.63s\tremaining: 218ms\n",
      "441:\tlearn: 1.0245486\ttotal: 1.63s\tremaining: 214ms\n",
      "442:\tlearn: 1.0244193\ttotal: 1.63s\tremaining: 210ms\n",
      "443:\tlearn: 1.0243113\ttotal: 1.64s\tremaining: 207ms\n",
      "444:\tlearn: 1.0241870\ttotal: 1.64s\tremaining: 203ms\n",
      "445:\tlearn: 1.0240603\ttotal: 1.65s\tremaining: 199ms\n",
      "446:\tlearn: 1.0239607\ttotal: 1.65s\tremaining: 196ms\n",
      "447:\tlearn: 1.0238386\ttotal: 1.65s\tremaining: 192ms\n",
      "448:\tlearn: 1.0237079\ttotal: 1.66s\tremaining: 188ms\n",
      "449:\tlearn: 1.0236052\ttotal: 1.66s\tremaining: 184ms\n",
      "450:\tlearn: 1.0234765\ttotal: 1.66s\tremaining: 181ms\n",
      "451:\tlearn: 1.0233535\ttotal: 1.67s\tremaining: 177ms\n",
      "452:\tlearn: 1.0232513\ttotal: 1.67s\tremaining: 173ms\n",
      "453:\tlearn: 1.0231241\ttotal: 1.68s\tremaining: 170ms\n",
      "454:\tlearn: 1.0230139\ttotal: 1.68s\tremaining: 166ms\n",
      "455:\tlearn: 1.0228959\ttotal: 1.68s\tremaining: 162ms\n",
      "456:\tlearn: 1.0227887\ttotal: 1.69s\tremaining: 159ms\n",
      "457:\tlearn: 1.0226802\ttotal: 1.69s\tremaining: 155ms\n",
      "458:\tlearn: 1.0225533\ttotal: 1.69s\tremaining: 151ms\n",
      "459:\tlearn: 1.0224262\ttotal: 1.7s\tremaining: 148ms\n",
      "460:\tlearn: 1.0223096\ttotal: 1.7s\tremaining: 144ms\n",
      "461:\tlearn: 1.0221972\ttotal: 1.71s\tremaining: 140ms\n",
      "462:\tlearn: 1.0220936\ttotal: 1.71s\tremaining: 137ms\n",
      "463:\tlearn: 1.0219683\ttotal: 1.71s\tremaining: 133ms\n",
      "464:\tlearn: 1.0218400\ttotal: 1.72s\tremaining: 129ms\n",
      "465:\tlearn: 1.0217189\ttotal: 1.72s\tremaining: 126ms\n",
      "466:\tlearn: 1.0215856\ttotal: 1.72s\tremaining: 122ms\n",
      "467:\tlearn: 1.0214647\ttotal: 1.73s\tremaining: 118ms\n",
      "468:\tlearn: 1.0213456\ttotal: 1.73s\tremaining: 114ms\n",
      "469:\tlearn: 1.0212279\ttotal: 1.74s\tremaining: 111ms\n",
      "470:\tlearn: 1.0211082\ttotal: 1.74s\tremaining: 107ms\n",
      "471:\tlearn: 1.0210019\ttotal: 1.74s\tremaining: 103ms\n",
      "472:\tlearn: 1.0208804\ttotal: 1.75s\tremaining: 99.8ms\n",
      "473:\tlearn: 1.0207691\ttotal: 1.75s\tremaining: 96.1ms\n",
      "474:\tlearn: 1.0206515\ttotal: 1.76s\tremaining: 92.5ms\n",
      "475:\tlearn: 1.0205360\ttotal: 1.76s\tremaining: 88.8ms\n",
      "476:\tlearn: 1.0204123\ttotal: 1.76s\tremaining: 85ms\n",
      "477:\tlearn: 1.0202935\ttotal: 1.77s\tremaining: 81.4ms\n",
      "478:\tlearn: 1.0201907\ttotal: 1.77s\tremaining: 77.7ms\n",
      "479:\tlearn: 1.0200733\ttotal: 1.77s\tremaining: 74ms\n",
      "480:\tlearn: 1.0199577\ttotal: 1.78s\tremaining: 70.3ms\n",
      "481:\tlearn: 1.0198711\ttotal: 1.78s\tremaining: 66.6ms\n",
      "482:\tlearn: 1.0197602\ttotal: 1.79s\tremaining: 62.9ms\n",
      "483:\tlearn: 1.0196421\ttotal: 1.79s\tremaining: 59.2ms\n",
      "484:\tlearn: 1.0195249\ttotal: 1.79s\tremaining: 55.5ms\n",
      "485:\tlearn: 1.0194041\ttotal: 1.8s\tremaining: 51.8ms\n",
      "486:\tlearn: 1.0193028\ttotal: 1.8s\tremaining: 48.1ms\n",
      "487:\tlearn: 1.0191748\ttotal: 1.81s\tremaining: 44.4ms\n",
      "488:\tlearn: 1.0190626\ttotal: 1.81s\tremaining: 40.7ms\n",
      "489:\tlearn: 1.0189684\ttotal: 1.81s\tremaining: 37ms\n",
      "490:\tlearn: 1.0188727\ttotal: 1.82s\tremaining: 33.3ms\n",
      "491:\tlearn: 1.0187669\ttotal: 1.82s\tremaining: 29.6ms\n",
      "492:\tlearn: 1.0186542\ttotal: 1.82s\tremaining: 25.9ms\n",
      "493:\tlearn: 1.0185407\ttotal: 1.83s\tremaining: 22.2ms\n",
      "494:\tlearn: 1.0184257\ttotal: 1.83s\tremaining: 18.5ms\n",
      "495:\tlearn: 1.0183274\ttotal: 1.84s\tremaining: 14.8ms\n",
      "496:\tlearn: 1.0181976\ttotal: 1.84s\tremaining: 11.1ms\n",
      "497:\tlearn: 1.0180812\ttotal: 1.84s\tremaining: 7.41ms\n",
      "498:\tlearn: 1.0179963\ttotal: 1.85s\tremaining: 3.71ms\n",
      "499:\tlearn: 1.0178822\ttotal: 1.85s\tremaining: 0us\n",
      "CatBoost's prediction accuracy is: 0.53\n",
      "CatBoost's prediction f1_score is: 0.48\n",
      "CatBoost's prediction MCC is: 0.30\n",
      "Time consumed for training: 2.043\n",
      "Time consumed for prediction: 0.00219 seconds\n",
      "<catboost.core.CatBoostClassifier object at 0x000001F672A88BA8>\n"
     ]
    }
   ],
   "source": [
    "from catboost import CatBoostClassifier\n",
    "import time\n",
    "\n",
    "catgb_model = CatBoostClassifier(n_estimators=500, learning_rate=0.001, random_state=1)\n",
    "training_start = time.perf_counter()\n",
    "catgb_model.fit(x_train, y_train)\n",
    "training_end = time.perf_counter()\n",
    "prediction_start = time.perf_counter()\n",
    "preds = catgb_model.predict(x_test)\n",
    "prediction_end = time.perf_counter()\n",
    "acc_catgb = metrics.accuracy_score(y_test,preds)\n",
    "score_catgb = metrics.f1_score(y_test,preds,average='weighted')\n",
    "mcc_catgb = metrics.matthews_corrcoef(y_test,preds)\n",
    "catgb_train_time = training_end-training_start\n",
    "catgb_prediction_time = prediction_end-prediction_start\n",
    "\n",
    "print(\"CatBoost's prediction accuracy is: %3.2f\" % (acc_catgb))\n",
    "print(\"CatBoost's prediction f1_score is: %3.2f\" % (score_catgb))\n",
    "print(\"CatBoost's prediction MCC is: %3.2f\" % (mcc_catgb))\n",
    "\n",
    "print(\"Time consumed for training: %4.3f\" % (catgb_train_time))\n",
    "print(\"Time consumed for prediction: %6.5f seconds\" % (catgb_prediction_time))\n",
    "print(catgb_model)"
   ]
  },
  {
   "cell_type": "markdown",
   "metadata": {},
   "source": [
    "### **LightGBM**"
   ]
  },
  {
   "cell_type": "code",
   "execution_count": 1145,
   "metadata": {},
   "outputs": [
    {
     "name": "stdout",
     "output_type": "stream",
     "text": [
      "LightGBM's prediction accuracy is: 0.53\n",
      "LightGBM's prediction f1_score is: 0.46\n",
      "LightGBM's prediction f1_score is: 0.30\n",
      "Time consumed for training: 0.491\n",
      "Time consumed for prediction: 0.01150 seconds\n",
      "LGBMClassifier(boosting_type='gbdt', class_weight=None, colsample_bytree=1.0,\n",
      "               importance_type='split', learning_rate=0.002, max_depth=7,\n",
      "               min_child_samples=20, min_child_weight=0.001, min_split_gain=0.0,\n",
      "               n_estimators=130, n_jobs=-1, num_leaves=31,\n",
      "               objective='multiclass', random_state=1, reg_alpha=0.2,\n",
      "               reg_lambda=0.0, silent='warn', subsample=1.0,\n",
      "               subsample_for_bin=200000, subsample_freq=0)\n"
     ]
    }
   ],
   "source": [
    "from lightgbm import LGBMClassifier\n",
    "import time\n",
    "\n",
    "lgb_model = LGBMClassifier(objective='multiclass', random_state=1, learning_rate=0.002, n_estimators=130,\n",
    "                            max_depth=7, reg_alpha=0.2)\n",
    "training_start = time.perf_counter()\n",
    "lgb_model.fit(x_train, y_train)\n",
    "training_end = time.perf_counter()\n",
    "prediction_start = time.perf_counter()\n",
    "preds = lgb_model.predict(x_test)\n",
    "prediction_end = time.perf_counter()\n",
    "acc_lgb = metrics.accuracy_score(y_test,preds)\n",
    "score_lgb = metrics.f1_score(y_test,preds,average='weighted')\n",
    "mcc_lgb = metrics.matthews_corrcoef(y_test,preds)\n",
    "lgb_train_time = training_end-training_start\n",
    "lgb_prediction_time = prediction_end-prediction_start\n",
    "\n",
    "print(\"LightGBM's prediction accuracy is: %3.2f\" % (acc_lgb))\n",
    "print(\"LightGBM's prediction f1_score is: %3.2f\" % (score_lgb))\n",
    "print(\"LightGBM's prediction f1_score is: %3.2f\" % (mcc_lgb))\n",
    "\n",
    "print(\"Time consumed for training: %4.3f\" % (lgb_train_time))\n",
    "print(\"Time consumed for prediction: %6.5f seconds\" % (lgb_prediction_time))\n",
    "print(lgb_model)"
   ]
  },
  {
   "cell_type": "markdown",
   "metadata": {},
   "source": [
    "### **Comparing Models**"
   ]
  },
  {
   "cell_type": "code",
   "execution_count": 1146,
   "metadata": {},
   "outputs": [
    {
     "data": {
      "text/html": [
       "<div>\n",
       "<style scoped>\n",
       "    .dataframe tbody tr th:only-of-type {\n",
       "        vertical-align: middle;\n",
       "    }\n",
       "\n",
       "    .dataframe tbody tr th {\n",
       "        vertical-align: top;\n",
       "    }\n",
       "\n",
       "    .dataframe thead th {\n",
       "        text-align: right;\n",
       "    }\n",
       "</style>\n",
       "<table border=\"1\" class=\"dataframe\">\n",
       "  <thead>\n",
       "    <tr style=\"text-align: right;\">\n",
       "      <th></th>\n",
       "      <th>Accuracy Score</th>\n",
       "      <th>F1-Score</th>\n",
       "      <th>MCC Score</th>\n",
       "      <th>Runtime Training</th>\n",
       "      <th>Runtime Prediction</th>\n",
       "    </tr>\n",
       "    <tr>\n",
       "      <th>Model</th>\n",
       "      <th></th>\n",
       "      <th></th>\n",
       "      <th></th>\n",
       "      <th></th>\n",
       "      <th></th>\n",
       "    </tr>\n",
       "  </thead>\n",
       "  <tbody>\n",
       "    <tr>\n",
       "      <th>AdaBoost</th>\n",
       "      <td>0.542373</td>\n",
       "      <td>0.524958</td>\n",
       "      <td>0.309133</td>\n",
       "      <td>0.171917</td>\n",
       "      <td>0.010162</td>\n",
       "    </tr>\n",
       "    <tr>\n",
       "      <th>XGBoost</th>\n",
       "      <td>0.542373</td>\n",
       "      <td>0.528758</td>\n",
       "      <td>0.308493</td>\n",
       "      <td>0.192145</td>\n",
       "      <td>0.007435</td>\n",
       "    </tr>\n",
       "    <tr>\n",
       "      <th>Gradient Boosting</th>\n",
       "      <td>0.531780</td>\n",
       "      <td>0.519925</td>\n",
       "      <td>0.292265</td>\n",
       "      <td>2.213415</td>\n",
       "      <td>0.011780</td>\n",
       "    </tr>\n",
       "    <tr>\n",
       "      <th>CatBoost</th>\n",
       "      <td>0.531780</td>\n",
       "      <td>0.478498</td>\n",
       "      <td>0.299638</td>\n",
       "      <td>2.042976</td>\n",
       "      <td>0.002189</td>\n",
       "    </tr>\n",
       "    <tr>\n",
       "      <th>LightGBM</th>\n",
       "      <td>0.529661</td>\n",
       "      <td>0.464305</td>\n",
       "      <td>0.301408</td>\n",
       "      <td>0.491492</td>\n",
       "      <td>0.011498</td>\n",
       "    </tr>\n",
       "  </tbody>\n",
       "</table>\n",
       "</div>"
      ],
      "text/plain": [
       "                   Accuracy Score  F1-Score  MCC Score  Runtime Training  \\\n",
       "Model                                                                      \n",
       "AdaBoost                 0.542373  0.524958   0.309133          0.171917   \n",
       "XGBoost                  0.542373  0.528758   0.308493          0.192145   \n",
       "Gradient Boosting        0.531780  0.519925   0.292265          2.213415   \n",
       "CatBoost                 0.531780  0.478498   0.299638          2.042976   \n",
       "LightGBM                 0.529661  0.464305   0.301408          0.491492   \n",
       "\n",
       "                   Runtime Prediction  \n",
       "Model                                  \n",
       "AdaBoost                     0.010162  \n",
       "XGBoost                      0.007435  \n",
       "Gradient Boosting            0.011780  \n",
       "CatBoost                     0.002189  \n",
       "LightGBM                     0.011498  "
      ]
     },
     "execution_count": 1146,
     "metadata": {},
     "output_type": "execute_result"
    }
   ],
   "source": [
    "results = pd.DataFrame({\n",
    "    'Model': ['AdaBoost', 'Gradient Boosting', 'XGBoost', 'CatBoost', 'LightGBM'],\n",
    "    'Accuracy Score': [acc_ada, acc_gb, acc_xgbp, acc_catgb, acc_lgb],\n",
    "    'F1-Score': [score_ada, score_gb, score_xgbp, score_catgb, score_lgb],\n",
    "    'MCC Score': [mcc_ada, mcc_gb, mcc_xgbp, mcc_catgb, mcc_lgb],\n",
    "    'Runtime Training': [ada_train_time, gb_train_time, xgbp_train_time, catgb_train_time, lgb_train_time],\n",
    "    'Runtime Prediction': [ada_prediction_time, gb_prediction_time, xgbp_prediction_time, catgb_prediction_time, lgb_prediction_time]})\n",
    "result_df = results.sort_values(by='Accuracy Score', ascending=False)\n",
    "result_df = result_df.set_index('Model')\n",
    "result_df"
   ]
  },
  {
   "cell_type": "markdown",
   "metadata": {},
   "source": [
    "### **Feature Selection**"
   ]
  },
  {
   "cell_type": "code",
   "execution_count": 1156,
   "metadata": {},
   "outputs": [
    {
     "data": {
      "text/html": [
       "<div>\n",
       "<style scoped>\n",
       "    .dataframe tbody tr th:only-of-type {\n",
       "        vertical-align: middle;\n",
       "    }\n",
       "\n",
       "    .dataframe tbody tr th {\n",
       "        vertical-align: top;\n",
       "    }\n",
       "\n",
       "    .dataframe thead th {\n",
       "        text-align: right;\n",
       "    }\n",
       "</style>\n",
       "<table border=\"1\" class=\"dataframe\">\n",
       "  <thead>\n",
       "    <tr style=\"text-align: right;\">\n",
       "      <th></th>\n",
       "      <th>Importance</th>\n",
       "    </tr>\n",
       "    <tr>\n",
       "      <th>Feature</th>\n",
       "      <th></th>\n",
       "    </tr>\n",
       "  </thead>\n",
       "  <tbody>\n",
       "    <tr>\n",
       "      <th>precipitation</th>\n",
       "      <td>0.482632</td>\n",
       "    </tr>\n",
       "    <tr>\n",
       "      <th>wind_speed</th>\n",
       "      <td>0.267251</td>\n",
       "    </tr>\n",
       "    <tr>\n",
       "      <th>temperature</th>\n",
       "      <td>0.149241</td>\n",
       "    </tr>\n",
       "    <tr>\n",
       "      <th>wind_direction</th>\n",
       "      <td>0.055838</td>\n",
       "    </tr>\n",
       "    <tr>\n",
       "      <th>relative_humidity</th>\n",
       "      <td>0.045037</td>\n",
       "    </tr>\n",
       "  </tbody>\n",
       "</table>\n",
       "</div>"
      ],
      "text/plain": [
       "                   Importance\n",
       "Feature                      \n",
       "precipitation        0.482632\n",
       "wind_speed           0.267251\n",
       "temperature          0.149241\n",
       "wind_direction       0.055838\n",
       "relative_humidity    0.045037"
      ]
     },
     "execution_count": 1156,
     "metadata": {},
     "output_type": "execute_result"
    }
   ],
   "source": [
    "importances = pd.DataFrame({\n",
    "    'Feature': df.drop('pm2.5', axis=1).columns,\n",
    "    'Importance': xgb_clf.feature_importances_\n",
    "})\n",
    "importances = importances.sort_values(by='Importance', ascending=False)\n",
    "importances = importances.set_index('Feature')\n",
    "importances"
   ]
  },
  {
   "cell_type": "code",
   "execution_count": 1157,
   "metadata": {},
   "outputs": [
    {
     "data": {
      "text/plain": [
       "Text(0.5, 1.0, 'Feature Importance')"
      ]
     },
     "execution_count": 1157,
     "metadata": {},
     "output_type": "execute_result"
    },
    {
     "data": {
      "image/png": "[encoded data removed]",
      "text/plain": [
       "<Figure size 864x432 with 1 Axes>"
      ]
     },
     "metadata": {
      "needs_background": "light"
     },
     "output_type": "display_data"
    }
   ],
   "source": [
    "feature_importance = xgb_clf.feature_importances_\n",
    "sorted_idx = np.argsort(feature_importance)\n",
    "fig = plt.figure(figsize=(12, 6))\n",
    "plt.barh(range(len(sorted_idx)), feature_importance[sorted_idx], align='center')\n",
    "plt.yticks(range(len(sorted_idx)), np.array(x_test.columns)[sorted_idx])\n",
    "plt.title('Feature Importance')"
   ]
  },
  {
   "cell_type": "code",
   "execution_count": 1158,
   "metadata": {},
   "outputs": [],
   "source": [
    "mybooster = xgb_clf.get_booster()\n",
    "\n",
    "model_bytearray = mybooster.save_raw()[4:]\n",
    "def myfun(self=None):\n",
    "    return model_bytearray\n",
    "\n",
    "mybooster.save_raw = myfun"
   ]
  },
  {
   "cell_type": "code",
   "execution_count": 1159,
   "metadata": {},
   "outputs": [
    {
     "name": "stderr",
     "output_type": "stream",
     "text": [
      "Setting feature_perturbation = \"tree_path_dependent\" because no background data was given.\n",
      "ntree_limit is deprecated, use `iteration_range` or model slicing instead.\n"
     ]
    },
    {
     "data": {
      "image/png": "[encoded data removed]",
      "text/plain": [
       "<Figure size 576x252 with 1 Axes>"
      ]
     },
     "metadata": {
      "needs_background": "light"
     },
     "output_type": "display_data"
    }
   ],
   "source": [
    "shap_values = shap.TreeExplainer(xgb_clf).shap_values(x_train)\n",
    "shap.summary_plot(shap_values, x_train)"
   ]
  },
  {
   "cell_type": "code",
   "execution_count": 1160,
   "metadata": {},
   "outputs": [
    {
     "data": {
      "image/png": "[encoded data removed]",
      "text/plain": [
       "<Figure size 576x252 with 2 Axes>"
      ]
     },
     "metadata": {
      "needs_background": "light"
     },
     "output_type": "display_data"
    }
   ],
   "source": [
    "# class 0\n",
    "shap.summary_plot(shap_values[0], x_train)"
   ]
  },
  {
   "cell_type": "code",
   "execution_count": 1161,
   "metadata": {},
   "outputs": [
    {
     "data": {
      "image/png": "[encoded data removed]",
      "text/plain": [
       "<Figure size 576x252 with 2 Axes>"
      ]
     },
     "metadata": {
      "needs_background": "light"
     },
     "output_type": "display_data"
    }
   ],
   "source": [
    "# class 1\n",
    "shap.summary_plot(shap_values[1], x_train)"
   ]
  },
  {
   "cell_type": "code",
   "execution_count": 1162,
   "metadata": {},
   "outputs": [
    {
     "data": {
      "image/png": "[encoded data removed]",
      "text/plain": [
       "<Figure size 576x252 with 2 Axes>"
      ]
     },
     "metadata": {
      "needs_background": "light"
     },
     "output_type": "display_data"
    }
   ],
   "source": [
    "# class 2\n",
    "shap.summary_plot(shap_values[2], x_train)"
   ]
  },
  {
   "cell_type": "markdown",
   "metadata": {},
   "source": [
    "## **Evaluation Model**"
   ]
  },
  {
   "cell_type": "code",
   "execution_count": 1163,
   "metadata": {},
   "outputs": [
    {
     "name": "stdout",
     "output_type": "stream",
     "text": [
      "XGBoost model accuracy score: 0.5424\n"
     ]
    }
   ],
   "source": [
    "from sklearn.metrics import accuracy_score\n",
    "\n",
    "# make predictions on test data\n",
    "y_pred = xgb_clf.predict(x_test)\n",
    "print('XGBoost model accuracy score: {0:0.4f}'. format(accuracy_score(y_test, y_pred)))"
   ]
  },
  {
   "cell_type": "code",
   "execution_count": 1164,
   "metadata": {},
   "outputs": [
    {
     "name": "stdout",
     "output_type": "stream",
     "text": [
      "Confusion matrix\n",
      "\n",
      " [[114  23  35]\n",
      " [ 52  39  48]\n",
      " [ 29  29 103]]\n"
     ]
    }
   ],
   "source": [
    "from sklearn.metrics import confusion_matrix\n",
    "\n",
    "cm = confusion_matrix(y_test, y_pred)\n",
    "print('Confusion matrix\\n\\n', cm)"
   ]
  },
  {
   "cell_type": "code",
   "execution_count": 1165,
   "metadata": {},
   "outputs": [
    {
     "name": "stdout",
     "output_type": "stream",
     "text": [
      "              precision    recall  f1-score   support\n",
      "\n",
      "           0       0.58      0.66      0.62       172\n",
      "           1       0.43      0.28      0.34       139\n",
      "           2       0.55      0.64      0.59       161\n",
      "\n",
      "    accuracy                           0.54       472\n",
      "   macro avg       0.52      0.53      0.52       472\n",
      "weighted avg       0.53      0.54      0.53       472\n",
      "\n"
     ]
    }
   ],
   "source": [
    "from sklearn.metrics import classification_report\n",
    "\n",
    "print(classification_report(y_test, y_pred))"
   ]
  },
  {
   "cell_type": "code",
   "execution_count": 1166,
   "metadata": {},
   "outputs": [
    {
     "name": "stdout",
     "output_type": "stream",
     "text": [
      "0.3084931306897567\n"
     ]
    }
   ],
   "source": [
    "from sklearn.metrics import matthews_corrcoef\n",
    "\n",
    "print(matthews_corrcoef(y_test, y_pred))"
   ]
  }
 ],
 "metadata": {
  "kernelspec": {
   "display_name": "Python 3.7.3 ('base')",
   "language": "python",
   "name": "python3"
  },
  "language_info": {
   "codemirror_mode": {
    "name": "ipython",
    "version": 3
   },
   "file_extension": ".py",
   "mimetype": "text/x-python",
   "name": "python",
   "nbconvert_exporter": "python",
   "pygments_lexer": "ipython3",
   "version": "3.7.3"
  },
  "orig_nbformat": 4,
  "vscode": {
   "interpreter": {
    "hash": "bc30f45a0ee3bb283605bb62d26dc81a10ff7c6c6d220b9edda588a614f8ccf9"
   }
  }
 },
 "nbformat": 4,
 "nbformat_minor": 2
}
